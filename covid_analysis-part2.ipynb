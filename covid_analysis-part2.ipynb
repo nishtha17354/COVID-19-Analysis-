{
 "cells": [
  {
   "cell_type": "code",
   "execution_count": 3,
   "metadata": {},
   "outputs": [],
   "source": [
    "import tweepy as tw\n",
    "from datetime import datetime,timedelta\n",
    "import csv\n",
    "import xlrd\n",
    "import re\n",
    "import collections\n",
    "import itertools\n"
   ]
  },
  {
   "cell_type": "code",
   "execution_count": 4,
   "metadata": {},
   "outputs": [
    {
     "name": "stdout",
     "output_type": "stream",
     "text": [
      "Requirement already satisfied: tldextract in c:\\programdata\\anaconda3\\lib\\site-packages (2.2.2)\n",
      "Requirement already satisfied: setuptools in c:\\programdata\\anaconda3\\lib\\site-packages (from tldextract) (40.6.3)\n",
      "Requirement already satisfied: requests-file>=1.4 in c:\\programdata\\anaconda3\\lib\\site-packages (from tldextract) (1.5.1)\n",
      "Requirement already satisfied: idna in c:\\programdata\\anaconda3\\lib\\site-packages (from tldextract) (2.8)\n",
      "Requirement already satisfied: requests>=2.1.0 in c:\\programdata\\anaconda3\\lib\\site-packages (from tldextract) (2.21.0)\n",
      "Requirement already satisfied: six in c:\\programdata\\anaconda3\\lib\\site-packages (from requests-file>=1.4->tldextract) (1.12.0)\n",
      "Requirement already satisfied: certifi>=2017.4.17 in c:\\programdata\\anaconda3\\lib\\site-packages (from requests>=2.1.0->tldextract) (2018.11.29)\n",
      "Requirement already satisfied: urllib3<1.25,>=1.21.1 in c:\\programdata\\anaconda3\\lib\\site-packages (from requests>=2.1.0->tldextract) (1.24.1)\n",
      "Requirement already satisfied: chardet<3.1.0,>=3.0.2 in c:\\programdata\\anaconda3\\lib\\site-packages (from requests>=2.1.0->tldextract) (3.0.4)\n"
     ]
    }
   ],
   "source": [
    "!pip install tldextract\n",
    "import matplotlib.pyplot as plt\n",
    "import numpy as np\n",
    "import pandas as pd\n",
    "import tldextract\n",
    "from tqdm import tqdm\n",
    "import tweepy"
   ]
  },
  {
   "cell_type": "code",
   "execution_count": 5,
   "metadata": {},
   "outputs": [],
   "source": [
    "import os\n",
    "consumer_key = os.getenv('TWEEPY_CONSUMER_KEY', 'YOUR_CONSUMER_KEY')\n",
    "consumer_secret = os.getenv('TWEEPY_CONSUMER_SECRET', 'YOUR_CONSUMER_SECRET')\n",
    "\n",
    "access_token = os.getenv('TWEEPY_ACCESS_KEY', 'YOUR_ACCESS_KEY')\n",
    "access_token_secret = os.getenv('TWEEPY_SECRET_KEY', 'YOUR_SECRET_KEY')\n",
    "\n",
    "auth = tw.OAuthHandler(consumer_key, consumer_secret)\n",
    "auth.set_access_token(access_token, access_token_secret)\n",
    "api = tw.API(auth)"
   ]
  },
  {
   "cell_type": "code",
   "execution_count": 6,
   "metadata": {},
   "outputs": [],
   "source": [
    "def clean_source(source):\n",
    "    original_source = source\n",
    "    \n",
    "    if isinstance(source, str):\n",
    "        lower_source = source.lower().strip()\n",
    "        if 'ap.gov.in' in source:\n",
    "            lower_source = 'ap.gov.in' \n",
    "        elif 'State Health' in source:\n",
    "            lower_source = 'State Bulletin'\n",
    "        elif 'State Bulletin' in source:\n",
    "            lower_source = 'State Bulletin'\n",
    "        else: \n",
    "            tld = tldextract.extract(str(source))\n",
    "            if tld.suffix:\n",
    "                lower_source = tld.domain + '.' + tld.suffix\n",
    "            else:\n",
    "                lower_source = tld.domain     \n",
    "        return lower_source"
   ]
  },
  {
   "cell_type": "code",
   "execution_count": 7,
   "metadata": {},
   "outputs": [],
   "source": [
    "tweet_urls = []\n",
    "with open('raw_data1.csv','rt')as f:\n",
    "    data = csv.reader(f)\n",
    "    column = 17\n",
    "    for row in data:\n",
    "        for x in range(3):\n",
    "            source = row[column+x]       \n",
    "            cleaned = clean_source(source)\n",
    "            if cleaned == \"twitter.com\":\n",
    "                tweet_urls.append(source)    "
   ]
  },
  {
   "cell_type": "code",
   "execution_count": 8,
   "metadata": {
    "collapsed": true
   },
   "outputs": [
    {
     "name": "stderr",
     "output_type": "stream",
     "text": [
      "\r",
      "  0%|                                                                                          | 0/179 [00:00<?, ?it/s]"
     ]
    },
    {
     "name": "stdout",
     "output_type": "stream",
     "text": [
      "ANI\n"
     ]
    },
    {
     "name": "stderr",
     "output_type": "stream",
     "text": [
      "\r",
      "  1%|▍                                                                                 | 1/179 [00:02<08:20,  2.81s/it]"
     ]
    },
    {
     "name": "stdout",
     "output_type": "stream",
     "text": [
      "ANI\n"
     ]
    },
    {
     "name": "stderr",
     "output_type": "stream",
     "text": [
      "\r",
      "  1%|▉                                                                                 | 2/179 [00:05<08:12,  2.78s/it]"
     ]
    },
    {
     "name": "stdout",
     "output_type": "stream",
     "text": [
      "ANI\n"
     ]
    },
    {
     "name": "stderr",
     "output_type": "stream",
     "text": [
      "\r",
      "  2%|█▎                                                                                | 3/179 [00:08<08:12,  2.80s/it]"
     ]
    },
    {
     "name": "stdout",
     "output_type": "stream",
     "text": [
      "ANI\n"
     ]
    },
    {
     "name": "stderr",
     "output_type": "stream",
     "text": [
      "\r",
      "  2%|█▊                                                                                | 4/179 [00:11<08:03,  2.76s/it]"
     ]
    },
    {
     "name": "stdout",
     "output_type": "stream",
     "text": [
      "ANI\n"
     ]
    },
    {
     "name": "stderr",
     "output_type": "stream",
     "text": [
      "\r",
      "  3%|██▎                                                                               | 5/179 [00:13<07:59,  2.76s/it]"
     ]
    },
    {
     "name": "stdout",
     "output_type": "stream",
     "text": [
      "error\n"
     ]
    },
    {
     "name": "stderr",
     "output_type": "stream",
     "text": [
      "\r",
      "  3%|██▋                                                                               | 6/179 [00:15<06:44,  2.34s/it]"
     ]
    },
    {
     "name": "stdout",
     "output_type": "stream",
     "text": [
      "ANI\n"
     ]
    },
    {
     "name": "stderr",
     "output_type": "stream",
     "text": [
      "\r",
      "  4%|███▏                                                                              | 7/179 [00:17<07:02,  2.46s/it]"
     ]
    },
    {
     "name": "stdout",
     "output_type": "stream",
     "text": [
      "ANI\n"
     ]
    },
    {
     "name": "stderr",
     "output_type": "stream",
     "text": [
      "\r",
      "  4%|███▋                                                                              | 8/179 [00:20<07:20,  2.57s/it]"
     ]
    },
    {
     "name": "stdout",
     "output_type": "stream",
     "text": [
      "ANI\n"
     ]
    },
    {
     "name": "stderr",
     "output_type": "stream",
     "text": [
      "\r",
      "  5%|████                                                                              | 9/179 [00:23<07:34,  2.68s/it]"
     ]
    },
    {
     "name": "stdout",
     "output_type": "stream",
     "text": [
      "ANI\n"
     ]
    },
    {
     "name": "stderr",
     "output_type": "stream",
     "text": [
      "\r",
      "  6%|████▌                                                                            | 10/179 [00:26<07:32,  2.68s/it]"
     ]
    },
    {
     "name": "stdout",
     "output_type": "stream",
     "text": [
      "ANI\n"
     ]
    },
    {
     "name": "stderr",
     "output_type": "stream",
     "text": [
      "\r",
      "  6%|████▉                                                                            | 11/179 [00:29<07:31,  2.69s/it]"
     ]
    },
    {
     "name": "stdout",
     "output_type": "stream",
     "text": [
      "ANI\n"
     ]
    },
    {
     "name": "stderr",
     "output_type": "stream",
     "text": [
      "\r",
      "  7%|█████▍                                                                           | 12/179 [00:31<07:35,  2.73s/it]"
     ]
    },
    {
     "name": "stdout",
     "output_type": "stream",
     "text": [
      "ANI\n"
     ]
    },
    {
     "name": "stderr",
     "output_type": "stream",
     "text": [
      "\r",
      "  7%|█████▉                                                                           | 13/179 [00:34<07:34,  2.74s/it]"
     ]
    },
    {
     "name": "stdout",
     "output_type": "stream",
     "text": [
      "ANI\n"
     ]
    },
    {
     "name": "stderr",
     "output_type": "stream",
     "text": [
      "\r",
      "  8%|██████▎                                                                          | 14/179 [00:37<07:31,  2.74s/it]"
     ]
    },
    {
     "name": "stdout",
     "output_type": "stream",
     "text": [
      "ANI\n"
     ]
    },
    {
     "name": "stderr",
     "output_type": "stream",
     "text": [
      "\r",
      "  8%|██████▊                                                                          | 15/179 [00:40<07:24,  2.71s/it]"
     ]
    },
    {
     "name": "stdout",
     "output_type": "stream",
     "text": [
      "ANI\n"
     ]
    },
    {
     "name": "stderr",
     "output_type": "stream",
     "text": [
      "\r",
      "  9%|███████▏                                                                         | 16/179 [00:42<07:26,  2.74s/it]"
     ]
    },
    {
     "name": "stdout",
     "output_type": "stream",
     "text": [
      "ANI\n"
     ]
    },
    {
     "name": "stderr",
     "output_type": "stream",
     "text": [
      "\r",
      "  9%|███████▋                                                                         | 17/179 [00:45<07:23,  2.74s/it]"
     ]
    },
    {
     "name": "stdout",
     "output_type": "stream",
     "text": [
      "ANI\n"
     ]
    },
    {
     "name": "stderr",
     "output_type": "stream",
     "text": [
      "\r",
      " 10%|████████▏                                                                        | 18/179 [00:48<07:23,  2.76s/it]"
     ]
    },
    {
     "name": "stdout",
     "output_type": "stream",
     "text": [
      "ANI\n"
     ]
    },
    {
     "name": "stderr",
     "output_type": "stream",
     "text": [
      "\r",
      " 11%|████████▌                                                                        | 19/179 [00:51<07:17,  2.73s/it]"
     ]
    },
    {
     "name": "stdout",
     "output_type": "stream",
     "text": [
      "ANI\n"
     ]
    },
    {
     "name": "stderr",
     "output_type": "stream",
     "text": [
      "\r",
      " 11%|█████████                                                                        | 20/179 [00:53<07:12,  2.72s/it]"
     ]
    },
    {
     "name": "stdout",
     "output_type": "stream",
     "text": [
      "ANI\n"
     ]
    },
    {
     "name": "stderr",
     "output_type": "stream",
     "text": [
      "\r",
      " 12%|█████████▌                                                                       | 21/179 [00:56<07:11,  2.73s/it]"
     ]
    },
    {
     "name": "stdout",
     "output_type": "stream",
     "text": [
      "ANI\n"
     ]
    },
    {
     "name": "stderr",
     "output_type": "stream",
     "text": [
      "\r",
      " 12%|█████████▉                                                                       | 22/179 [00:59<07:04,  2.70s/it]"
     ]
    },
    {
     "name": "stdout",
     "output_type": "stream",
     "text": [
      "ANI\n"
     ]
    },
    {
     "name": "stderr",
     "output_type": "stream",
     "text": [
      "\r",
      " 13%|██████████▍                                                                      | 23/179 [01:01<07:05,  2.72s/it]"
     ]
    },
    {
     "name": "stdout",
     "output_type": "stream",
     "text": [
      "ANI\n"
     ]
    },
    {
     "name": "stderr",
     "output_type": "stream",
     "text": [
      "\r",
      " 13%|██████████▊                                                                      | 24/179 [01:04<07:01,  2.72s/it]"
     ]
    },
    {
     "name": "stdout",
     "output_type": "stream",
     "text": [
      "ANI\n"
     ]
    },
    {
     "name": "stderr",
     "output_type": "stream",
     "text": [
      "\r",
      " 14%|███████████▎                                                                     | 25/179 [01:07<07:01,  2.74s/it]"
     ]
    },
    {
     "name": "stdout",
     "output_type": "stream",
     "text": [
      "ANI\n"
     ]
    },
    {
     "name": "stderr",
     "output_type": "stream",
     "text": [
      "\r",
      " 15%|███████████▊                                                                     | 26/179 [01:10<07:01,  2.76s/it]"
     ]
    },
    {
     "name": "stdout",
     "output_type": "stream",
     "text": [
      "ANI\n"
     ]
    },
    {
     "name": "stderr",
     "output_type": "stream",
     "text": [
      "\r",
      " 15%|████████████▏                                                                    | 27/179 [01:12<07:01,  2.78s/it]"
     ]
    },
    {
     "name": "stdout",
     "output_type": "stream",
     "text": [
      "ANI\n"
     ]
    },
    {
     "name": "stderr",
     "output_type": "stream",
     "text": [
      "\r",
      " 16%|████████████▋                                                                    | 28/179 [01:15<06:54,  2.75s/it]"
     ]
    },
    {
     "name": "stdout",
     "output_type": "stream",
     "text": [
      "ANI\n"
     ]
    },
    {
     "name": "stderr",
     "output_type": "stream",
     "text": [
      "\r",
      " 16%|█████████████                                                                    | 29/179 [01:18<07:05,  2.84s/it]"
     ]
    },
    {
     "name": "stdout",
     "output_type": "stream",
     "text": [
      "ANI\n"
     ]
    },
    {
     "name": "stderr",
     "output_type": "stream",
     "text": [
      "\r",
      " 17%|█████████████▌                                                                   | 30/179 [01:21<06:55,  2.79s/it]"
     ]
    },
    {
     "name": "stdout",
     "output_type": "stream",
     "text": [
      "error\n"
     ]
    },
    {
     "name": "stderr",
     "output_type": "stream",
     "text": [
      "\r",
      " 17%|██████████████                                                                   | 31/179 [01:22<05:45,  2.33s/it]"
     ]
    },
    {
     "name": "stdout",
     "output_type": "stream",
     "text": [
      "ANI\n"
     ]
    },
    {
     "name": "stderr",
     "output_type": "stream",
     "text": [
      "\r",
      " 18%|██████████████▍                                                                  | 32/179 [01:25<06:00,  2.45s/it]"
     ]
    },
    {
     "name": "stdout",
     "output_type": "stream",
     "text": [
      "ANI\n"
     ]
    },
    {
     "name": "stderr",
     "output_type": "stream",
     "text": [
      "\r",
      " 18%|██████████████▉                                                                  | 33/179 [01:28<06:07,  2.51s/it]"
     ]
    },
    {
     "name": "stdout",
     "output_type": "stream",
     "text": [
      "ANI\n"
     ]
    },
    {
     "name": "stderr",
     "output_type": "stream",
     "text": [
      "\r",
      " 19%|███████████████▍                                                                 | 34/179 [01:30<06:21,  2.63s/it]"
     ]
    },
    {
     "name": "stdout",
     "output_type": "stream",
     "text": [
      "ANI\n"
     ]
    },
    {
     "name": "stderr",
     "output_type": "stream",
     "text": [
      "\r",
      " 20%|███████████████▊                                                                 | 35/179 [01:33<06:23,  2.66s/it]"
     ]
    },
    {
     "name": "stdout",
     "output_type": "stream",
     "text": [
      "ANI\n"
     ]
    },
    {
     "name": "stderr",
     "output_type": "stream",
     "text": [
      "\r",
      " 20%|████████████████▎                                                                | 36/179 [01:36<06:26,  2.70s/it]"
     ]
    },
    {
     "name": "stdout",
     "output_type": "stream",
     "text": [
      "ANI\n"
     ]
    },
    {
     "name": "stderr",
     "output_type": "stream",
     "text": [
      "\r",
      " 21%|████████████████▋                                                                | 37/179 [01:39<06:24,  2.71s/it]"
     ]
    },
    {
     "name": "stdout",
     "output_type": "stream",
     "text": [
      "ANI\n"
     ]
    },
    {
     "name": "stderr",
     "output_type": "stream",
     "text": [
      "\r",
      " 21%|█████████████████▏                                                               | 38/179 [01:41<06:23,  2.72s/it]"
     ]
    },
    {
     "name": "stdout",
     "output_type": "stream",
     "text": [
      "ANI\n"
     ]
    },
    {
     "name": "stderr",
     "output_type": "stream",
     "text": [
      "\r",
      " 22%|█████████████████▋                                                               | 39/179 [01:44<06:33,  2.81s/it]"
     ]
    },
    {
     "name": "stdout",
     "output_type": "stream",
     "text": [
      "ANI\n"
     ]
    },
    {
     "name": "stderr",
     "output_type": "stream",
     "text": [
      "\r",
      " 22%|██████████████████                                                               | 40/179 [01:47<06:28,  2.80s/it]"
     ]
    },
    {
     "name": "stdout",
     "output_type": "stream",
     "text": [
      "ANINewsUP\n"
     ]
    },
    {
     "name": "stderr",
     "output_type": "stream",
     "text": [
      "\r",
      " 23%|██████████████████▌                                                              | 41/179 [01:50<06:30,  2.83s/it]"
     ]
    },
    {
     "name": "stdout",
     "output_type": "stream",
     "text": [
      "ANINewsUP\n"
     ]
    },
    {
     "name": "stderr",
     "output_type": "stream",
     "text": [
      "\r",
      " 23%|███████████████████                                                              | 42/179 [01:53<06:26,  2.82s/it]"
     ]
    },
    {
     "name": "stdout",
     "output_type": "stream",
     "text": [
      "error\n"
     ]
    },
    {
     "name": "stderr",
     "output_type": "stream",
     "text": [
      "\r",
      " 24%|███████████████████▍                                                             | 43/179 [01:54<05:21,  2.36s/it]"
     ]
    },
    {
     "name": "stdout",
     "output_type": "stream",
     "text": [
      "ArogyaAndhra\n"
     ]
    },
    {
     "name": "stderr",
     "output_type": "stream",
     "text": [
      "\r",
      " 25%|███████████████████▉                                                             | 44/179 [01:57<05:37,  2.50s/it]"
     ]
    },
    {
     "name": "stdout",
     "output_type": "stream",
     "text": [
      "ArogyaAndhra\n"
     ]
    },
    {
     "name": "stderr",
     "output_type": "stream",
     "text": [
      "\r",
      " 25%|████████████████████▎                                                            | 45/179 [02:00<05:49,  2.61s/it]"
     ]
    },
    {
     "name": "stdout",
     "output_type": "stream",
     "text": [
      "ArogyaAndhra\n"
     ]
    },
    {
     "name": "stderr",
     "output_type": "stream",
     "text": [
      "\r",
      " 26%|████████████████████▊                                                            | 46/179 [02:03<05:53,  2.66s/it]"
     ]
    },
    {
     "name": "stdout",
     "output_type": "stream",
     "text": [
      "ArogyaAndhra\n"
     ]
    },
    {
     "name": "stderr",
     "output_type": "stream",
     "text": [
      "\r",
      " 26%|█████████████████████▎                                                           | 47/179 [02:06<05:56,  2.70s/it]"
     ]
    },
    {
     "name": "stdout",
     "output_type": "stream",
     "text": [
      "ArogyaAndhra\n"
     ]
    },
    {
     "name": "stderr",
     "output_type": "stream",
     "text": [
      "\r",
      " 27%|█████████████████████▋                                                           | 48/179 [02:08<05:59,  2.75s/it]"
     ]
    },
    {
     "name": "stdout",
     "output_type": "stream",
     "text": [
      "ArogyaAndhra\n"
     ]
    },
    {
     "name": "stderr",
     "output_type": "stream",
     "text": [
      "\r",
      " 27%|██████████████████████▏                                                          | 49/179 [02:11<05:53,  2.72s/it]"
     ]
    },
    {
     "name": "stdout",
     "output_type": "stream",
     "text": [
      "ArogyaAndhra\n"
     ]
    },
    {
     "name": "stderr",
     "output_type": "stream",
     "text": [
      "\r",
      " 28%|██████████████████████▋                                                          | 50/179 [02:14<05:47,  2.70s/it]"
     ]
    },
    {
     "name": "stdout",
     "output_type": "stream",
     "text": [
      "CMODelhi\n"
     ]
    },
    {
     "name": "stderr",
     "output_type": "stream",
     "text": [
      "\r",
      " 28%|███████████████████████                                                          | 51/179 [02:16<05:45,  2.70s/it]"
     ]
    },
    {
     "name": "stdout",
     "output_type": "stream",
     "text": [
      "ChetanSanghi\n"
     ]
    },
    {
     "name": "stderr",
     "output_type": "stream",
     "text": [
      "\r",
      " 29%|███████████████████████▌                                                         | 52/179 [02:19<05:46,  2.73s/it]"
     ]
    },
    {
     "name": "stdout",
     "output_type": "stream",
     "text": [
      "DHFWKA\n"
     ]
    },
    {
     "name": "stderr",
     "output_type": "stream",
     "text": [
      "\r",
      " 30%|███████████████████████▉                                                         | 53/179 [02:22<05:42,  2.72s/it]"
     ]
    },
    {
     "name": "stdout",
     "output_type": "stream",
     "text": [
      "error\n"
     ]
    },
    {
     "name": "stderr",
     "output_type": "stream",
     "text": [
      "\r",
      " 30%|████████████████████████▍                                                        | 54/179 [02:23<04:46,  2.30s/it]"
     ]
    },
    {
     "name": "stdout",
     "output_type": "stream",
     "text": [
      "error\n"
     ]
    },
    {
     "name": "stderr",
     "output_type": "stream",
     "text": [
      "\r",
      " 31%|████████████████████████▉                                                        | 55/179 [02:24<04:08,  2.00s/it]"
     ]
    },
    {
     "name": "stdout",
     "output_type": "stream",
     "text": [
      "HFWOdisha\n"
     ]
    },
    {
     "name": "stderr",
     "output_type": "stream",
     "text": [
      "\r",
      " 31%|█████████████████████████▎                                                       | 56/179 [02:27<04:41,  2.29s/it]"
     ]
    },
    {
     "name": "stdout",
     "output_type": "stream",
     "text": [
      "HuffPostIndia\n"
     ]
    },
    {
     "name": "stderr",
     "output_type": "stream",
     "text": [
      "\r",
      " 32%|█████████████████████████▊                                                       | 57/179 [02:30<04:55,  2.43s/it]"
     ]
    },
    {
     "name": "stdout",
     "output_type": "stream",
     "text": [
      "error\n"
     ]
    },
    {
     "name": "stderr",
     "output_type": "stream",
     "text": [
      "\r",
      " 32%|██████████████████████████▏                                                      | 58/179 [02:31<04:12,  2.09s/it]"
     ]
    },
    {
     "name": "stdout",
     "output_type": "stream",
     "text": [
      "IPRTelangana\n"
     ]
    },
    {
     "name": "stderr",
     "output_type": "stream",
     "text": [
      "\r",
      " 33%|██████████████████████████▋                                                      | 59/179 [02:34<04:30,  2.25s/it]"
     ]
    },
    {
     "name": "stdout",
     "output_type": "stream",
     "text": [
      "IPR_Odisha\n"
     ]
    },
    {
     "name": "stderr",
     "output_type": "stream",
     "text": [
      "\r",
      " 34%|███████████████████████████▏                                                     | 60/179 [02:37<04:43,  2.38s/it]"
     ]
    },
    {
     "name": "stdout",
     "output_type": "stream",
     "text": [
      "IPR_Odisha\n"
     ]
    },
    {
     "name": "stderr",
     "output_type": "stream",
     "text": [
      "\r",
      " 34%|███████████████████████████▌                                                     | 61/179 [02:40<04:57,  2.52s/it]"
     ]
    },
    {
     "name": "stdout",
     "output_type": "stream",
     "text": [
      "error\n"
     ]
    },
    {
     "name": "stderr",
     "output_type": "stream",
     "text": [
      "\r",
      " 35%|████████████████████████████                                                     | 62/179 [02:41<04:11,  2.15s/it]"
     ]
    },
    {
     "name": "stdout",
     "output_type": "stream",
     "text": [
      "error\n"
     ]
    },
    {
     "name": "stderr",
     "output_type": "stream",
     "text": [
      "\r",
      " 35%|████████████████████████████▌                                                    | 63/179 [02:42<03:39,  1.89s/it]"
     ]
    },
    {
     "name": "stdout",
     "output_type": "stream",
     "text": [
      "error\n"
     ]
    },
    {
     "name": "stderr",
     "output_type": "stream",
     "text": [
      "\r",
      " 36%|████████████████████████████▉                                                    | 64/179 [02:44<03:16,  1.71s/it]"
     ]
    },
    {
     "name": "stdout",
     "output_type": "stream",
     "text": [
      "error\n"
     ]
    },
    {
     "name": "stderr",
     "output_type": "stream",
     "text": [
      "\r",
      " 36%|█████████████████████████████▍                                                   | 65/179 [02:45<03:00,  1.58s/it]"
     ]
    },
    {
     "name": "stdout",
     "output_type": "stream",
     "text": [
      "IPR_Odisha\n"
     ]
    },
    {
     "name": "stderr",
     "output_type": "stream",
     "text": [
      "\r",
      " 37%|█████████████████████████████▊                                                   | 66/179 [02:48<03:37,  1.92s/it]"
     ]
    },
    {
     "name": "stdout",
     "output_type": "stream",
     "text": [
      "IPR_Odisha\n"
     ]
    },
    {
     "name": "stderr",
     "output_type": "stream",
     "text": [
      "\r",
      " 37%|██████████████████████████████▎                                                  | 67/179 [02:50<04:07,  2.21s/it]"
     ]
    },
    {
     "name": "stdout",
     "output_type": "stream",
     "text": [
      "JansamparkMP\n"
     ]
    },
    {
     "name": "stderr",
     "output_type": "stream",
     "text": [
      "\r",
      " 38%|██████████████████████████████▊                                                  | 68/179 [02:53<04:19,  2.34s/it]"
     ]
    },
    {
     "name": "stdout",
     "output_type": "stream",
     "text": [
      "MoHFW_GUJARAT\n"
     ]
    },
    {
     "name": "stderr",
     "output_type": "stream",
     "text": [
      "\r",
      " 39%|███████████████████████████████▏                                                 | 69/179 [02:56<04:31,  2.47s/it]"
     ]
    },
    {
     "name": "stdout",
     "output_type": "stream",
     "text": [
      "NHM_TN\n"
     ]
    },
    {
     "name": "stderr",
     "output_type": "stream",
     "text": [
      "\r",
      " 39%|███████████████████████████████▋                                                 | 70/179 [02:59<04:39,  2.57s/it]"
     ]
    },
    {
     "name": "stdout",
     "output_type": "stream",
     "text": [
      "PIBAhmedabad\n"
     ]
    },
    {
     "name": "stderr",
     "output_type": "stream",
     "text": [
      "\r",
      " 40%|████████████████████████████████▏                                                | 71/179 [03:01<04:44,  2.63s/it]"
     ]
    },
    {
     "name": "stdout",
     "output_type": "stream",
     "text": [
      "PIBAhmedabad\n"
     ]
    },
    {
     "name": "stderr",
     "output_type": "stream",
     "text": [
      "\r",
      " 40%|████████████████████████████████▌                                                | 72/179 [03:04<04:42,  2.64s/it]"
     ]
    },
    {
     "name": "stdout",
     "output_type": "stream",
     "text": [
      "PIBAhmedabad\n"
     ]
    },
    {
     "name": "stderr",
     "output_type": "stream",
     "text": [
      "\r",
      " 41%|█████████████████████████████████                                                | 73/179 [03:07<04:42,  2.66s/it]"
     ]
    },
    {
     "name": "stdout",
     "output_type": "stream",
     "text": [
      "PIBAhmedabad\n"
     ]
    },
    {
     "name": "stderr",
     "output_type": "stream",
     "text": [
      "\r",
      " 41%|█████████████████████████████████▍                                               | 74/179 [03:10<04:46,  2.72s/it]"
     ]
    },
    {
     "name": "stdout",
     "output_type": "stream",
     "text": [
      "PIBAhmedabad\n"
     ]
    },
    {
     "name": "stderr",
     "output_type": "stream",
     "text": [
      "\r",
      " 42%|█████████████████████████████████▉                                               | 75/179 [03:13<04:49,  2.78s/it]"
     ]
    },
    {
     "name": "stdout",
     "output_type": "stream",
     "text": [
      "PIBJaipur\n"
     ]
    },
    {
     "name": "stderr",
     "output_type": "stream",
     "text": [
      "\r",
      " 42%|██████████████████████████████████▍                                              | 76/179 [03:15<04:46,  2.78s/it]"
     ]
    },
    {
     "name": "stdout",
     "output_type": "stream",
     "text": [
      "PIBJaipur\n"
     ]
    },
    {
     "name": "stderr",
     "output_type": "stream",
     "text": [
      "\r",
      " 43%|██████████████████████████████████▊                                              | 77/179 [03:18<04:47,  2.82s/it]"
     ]
    },
    {
     "name": "stdout",
     "output_type": "stream",
     "text": [
      "PIBJaipur\n"
     ]
    },
    {
     "name": "stderr",
     "output_type": "stream",
     "text": [
      "\r",
      " 44%|███████████████████████████████████▎                                             | 78/179 [03:21<04:42,  2.80s/it]"
     ]
    },
    {
     "name": "stdout",
     "output_type": "stream",
     "text": [
      "PIBJaipur\n"
     ]
    },
    {
     "name": "stderr",
     "output_type": "stream",
     "text": [
      "\r",
      " 44%|███████████████████████████████████▋                                             | 79/179 [03:24<04:39,  2.80s/it]"
     ]
    },
    {
     "name": "stdout",
     "output_type": "stream",
     "text": [
      "PIBShimla\n"
     ]
    },
    {
     "name": "stderr",
     "output_type": "stream",
     "text": [
      "\r",
      " 45%|████████████████████████████████████▏                                            | 80/179 [03:27<04:36,  2.79s/it]"
     ]
    },
    {
     "name": "stdout",
     "output_type": "stream",
     "text": [
      "PIBTvpm\n"
     ]
    },
    {
     "name": "stderr",
     "output_type": "stream",
     "text": [
      "\r",
      " 45%|████████████████████████████████████▋                                            | 81/179 [03:29<04:33,  2.79s/it]"
     ]
    },
    {
     "name": "stdout",
     "output_type": "stream",
     "text": [
      "PTI_News\n"
     ]
    },
    {
     "name": "stderr",
     "output_type": "stream",
     "text": [
      "\r",
      " 46%|█████████████████████████████████████                                            | 82/179 [03:32<04:28,  2.77s/it]"
     ]
    },
    {
     "name": "stdout",
     "output_type": "stream",
     "text": [
      "PTI_News\n"
     ]
    },
    {
     "name": "stderr",
     "output_type": "stream",
     "text": [
      "\r",
      " 46%|█████████████████████████████████████▌                                           | 83/179 [03:35<04:27,  2.79s/it]"
     ]
    },
    {
     "name": "stdout",
     "output_type": "stream",
     "text": [
      "PTI_News\n"
     ]
    },
    {
     "name": "stderr",
     "output_type": "stream",
     "text": [
      "\r",
      " 47%|██████████████████████████████████████                                           | 84/179 [03:38<04:23,  2.77s/it]"
     ]
    },
    {
     "name": "stdout",
     "output_type": "stream",
     "text": [
      "PTI_News\n"
     ]
    },
    {
     "name": "stderr",
     "output_type": "stream",
     "text": [
      "\r",
      " 47%|██████████████████████████████████████▍                                          | 85/179 [03:40<04:22,  2.80s/it]"
     ]
    },
    {
     "name": "stdout",
     "output_type": "stream",
     "text": [
      "PTI_News\n"
     ]
    },
    {
     "name": "stderr",
     "output_type": "stream",
     "text": [
      "\r",
      " 48%|██████████████████████████████████████▉                                          | 86/179 [03:43<04:17,  2.77s/it]"
     ]
    },
    {
     "name": "stdout",
     "output_type": "stream",
     "text": [
      "PTI_News\n"
     ]
    },
    {
     "name": "stderr",
     "output_type": "stream",
     "text": [
      "\r",
      " 49%|███████████████████████████████████████▎                                         | 87/179 [03:46<04:11,  2.74s/it]"
     ]
    },
    {
     "name": "stdout",
     "output_type": "stream",
     "text": [
      "PTI_News\n"
     ]
    },
    {
     "name": "stderr",
     "output_type": "stream",
     "text": [
      "\r",
      " 49%|███████████████████████████████████████▊                                         | 88/179 [03:49<04:06,  2.71s/it]"
     ]
    },
    {
     "name": "stdout",
     "output_type": "stream",
     "text": [
      "error\n"
     ]
    },
    {
     "name": "stderr",
     "output_type": "stream",
     "text": [
      "\r",
      " 50%|████████████████████████████████████████▎                                        | 89/179 [03:50<03:26,  2.30s/it]"
     ]
    },
    {
     "name": "stdout",
     "output_type": "stream",
     "text": [
      "PTI_News\n"
     ]
    },
    {
     "name": "stderr",
     "output_type": "stream",
     "text": [
      "\r",
      " 50%|████████████████████████████████████████▋                                        | 90/179 [03:53<03:41,  2.49s/it]"
     ]
    },
    {
     "name": "stdout",
     "output_type": "stream",
     "text": [
      "PTI_News\n"
     ]
    },
    {
     "name": "stderr",
     "output_type": "stream",
     "text": [
      "\r",
      " 51%|█████████████████████████████████████████▏                                       | 91/179 [03:56<03:48,  2.60s/it]"
     ]
    },
    {
     "name": "stdout",
     "output_type": "stream",
     "text": [
      "PTI_News\n"
     ]
    },
    {
     "name": "stderr",
     "output_type": "stream",
     "text": [
      "\r",
      " 51%|█████████████████████████████████████████▋                                       | 92/179 [03:58<03:48,  2.63s/it]"
     ]
    },
    {
     "name": "stdout",
     "output_type": "stream",
     "text": [
      "PTI_News\n"
     ]
    },
    {
     "name": "stderr",
     "output_type": "stream",
     "text": [
      "\r",
      " 52%|██████████████████████████████████████████                                       | 93/179 [04:01<03:51,  2.69s/it]"
     ]
    },
    {
     "name": "stdout",
     "output_type": "stream",
     "text": [
      "PTI_News\n"
     ]
    },
    {
     "name": "stderr",
     "output_type": "stream",
     "text": [
      "\r",
      " 53%|██████████████████████████████████████████▌                                      | 94/179 [04:04<03:48,  2.69s/it]"
     ]
    },
    {
     "name": "stdout",
     "output_type": "stream",
     "text": [
      "PTI_News\n"
     ]
    },
    {
     "name": "stderr",
     "output_type": "stream",
     "text": [
      "\r",
      " 53%|██████████████████████████████████████████▉                                      | 95/179 [04:07<03:45,  2.69s/it]"
     ]
    },
    {
     "name": "stdout",
     "output_type": "stream",
     "text": [
      "PTI_News\n"
     ]
    },
    {
     "name": "stderr",
     "output_type": "stream",
     "text": [
      "\r",
      " 54%|███████████████████████████████████████████▍                                     | 96/179 [04:09<03:46,  2.72s/it]"
     ]
    },
    {
     "name": "stdout",
     "output_type": "stream",
     "text": [
      "PTI_News\n"
     ]
    },
    {
     "name": "stderr",
     "output_type": "stream",
     "text": [
      "\r",
      " 54%|███████████████████████████████████████████▉                                     | 97/179 [04:12<03:41,  2.71s/it]"
     ]
    },
    {
     "name": "stdout",
     "output_type": "stream",
     "text": [
      "PTI_News\n"
     ]
    },
    {
     "name": "stderr",
     "output_type": "stream",
     "text": [
      "\r",
      " 55%|████████████████████████████████████████████▎                                    | 98/179 [04:15<03:38,  2.69s/it]"
     ]
    },
    {
     "name": "stdout",
     "output_type": "stream",
     "text": [
      "PTI_News\n"
     ]
    },
    {
     "name": "stderr",
     "output_type": "stream",
     "text": [
      "\r",
      " 55%|████████████████████████████████████████████▊                                    | 99/179 [04:17<03:37,  2.72s/it]"
     ]
    },
    {
     "name": "stdout",
     "output_type": "stream",
     "text": [
      "SreyashiDey\n"
     ]
    },
    {
     "name": "stderr",
     "output_type": "stream",
     "text": [
      "\r",
      " 56%|████████████████████████████████████████████▋                                   | 100/179 [04:20<03:33,  2.71s/it]"
     ]
    },
    {
     "name": "stdout",
     "output_type": "stream",
     "text": [
      "THChennai\n"
     ]
    },
    {
     "name": "stderr",
     "output_type": "stream",
     "text": [
      "\r",
      " 56%|█████████████████████████████████████████████▏                                  | 101/179 [04:23<03:30,  2.70s/it]"
     ]
    },
    {
     "name": "stdout",
     "output_type": "stream",
     "text": [
      "THChennai\n"
     ]
    },
    {
     "name": "stderr",
     "output_type": "stream",
     "text": [
      "\r",
      " 57%|█████████████████████████████████████████████▌                                  | 102/179 [04:26<03:30,  2.73s/it]"
     ]
    },
    {
     "name": "stdout",
     "output_type": "stream",
     "text": [
      "THMumbai\n"
     ]
    },
    {
     "name": "stderr",
     "output_type": "stream",
     "text": [
      "\r",
      " 58%|██████████████████████████████████████████████                                  | 103/179 [04:28<03:27,  2.73s/it]"
     ]
    },
    {
     "name": "stdout",
     "output_type": "stream",
     "text": [
      "THMumbai\n"
     ]
    },
    {
     "name": "stderr",
     "output_type": "stream",
     "text": [
      "\r",
      " 58%|██████████████████████████████████████████████▍                                 | 104/179 [04:31<03:24,  2.73s/it]"
     ]
    },
    {
     "name": "stdout",
     "output_type": "stream",
     "text": [
      "TOIAhmedabad\n"
     ]
    },
    {
     "name": "stderr",
     "output_type": "stream",
     "text": [
      "\r",
      " 59%|██████████████████████████████████████████████▉                                 | 105/179 [04:34<03:22,  2.73s/it]"
     ]
    },
    {
     "name": "stdout",
     "output_type": "stream",
     "text": [
      "TOIAhmedabad\n"
     ]
    },
    {
     "name": "stderr",
     "output_type": "stream",
     "text": [
      "\r",
      " 59%|███████████████████████████████████████████████▎                                | 106/179 [04:37<03:22,  2.77s/it]"
     ]
    },
    {
     "name": "stdout",
     "output_type": "stream",
     "text": [
      "TOIAhmedabad\n"
     ]
    },
    {
     "name": "stderr",
     "output_type": "stream",
     "text": [
      "\r",
      " 60%|███████████████████████████████████████████████▊                                | 107/179 [04:39<03:17,  2.74s/it]"
     ]
    },
    {
     "name": "stdout",
     "output_type": "stream",
     "text": [
      "TOIAhmedabad\n"
     ]
    },
    {
     "name": "stderr",
     "output_type": "stream",
     "text": [
      "\r",
      " 60%|████████████████████████████████████████████████▎                               | 108/179 [04:42<03:14,  2.74s/it]"
     ]
    },
    {
     "name": "stdout",
     "output_type": "stream",
     "text": [
      "TOIAhmedabad\n"
     ]
    },
    {
     "name": "stderr",
     "output_type": "stream",
     "text": [
      "\r",
      " 61%|████████████████████████████████████████████████▋                               | 109/179 [04:45<03:12,  2.75s/it]"
     ]
    },
    {
     "name": "stdout",
     "output_type": "stream",
     "text": [
      "TOIAhmedabad\n"
     ]
    },
    {
     "name": "stderr",
     "output_type": "stream",
     "text": [
      "\r",
      " 61%|█████████████████████████████████████████████████▏                              | 110/179 [04:48<03:10,  2.76s/it]"
     ]
    },
    {
     "name": "stdout",
     "output_type": "stream",
     "text": [
      "TOIAhmedabad\n"
     ]
    },
    {
     "name": "stderr",
     "output_type": "stream",
     "text": [
      "\r",
      " 62%|█████████████████████████████████████████████████▌                              | 111/179 [04:50<03:05,  2.73s/it]"
     ]
    },
    {
     "name": "stdout",
     "output_type": "stream",
     "text": [
      "TOIBengaluru\n"
     ]
    },
    {
     "name": "stderr",
     "output_type": "stream",
     "text": [
      "\r",
      " 63%|██████████████████████████████████████████████████                              | 112/179 [04:53<03:02,  2.72s/it]"
     ]
    },
    {
     "name": "stdout",
     "output_type": "stream",
     "text": [
      "TOIHyderabad\n"
     ]
    },
    {
     "name": "stderr",
     "output_type": "stream",
     "text": [
      "\r",
      " 63%|██████████████████████████████████████████████████▌                             | 113/179 [04:56<03:04,  2.80s/it]"
     ]
    },
    {
     "name": "stdout",
     "output_type": "stream",
     "text": [
      "TOIHyderabad\n"
     ]
    },
    {
     "name": "stderr",
     "output_type": "stream",
     "text": [
      "\r",
      " 64%|██████████████████████████████████████████████████▉                             | 114/179 [04:59<03:03,  2.82s/it]"
     ]
    },
    {
     "name": "stdout",
     "output_type": "stream",
     "text": [
      "TOIHyderabad\n"
     ]
    },
    {
     "name": "stderr",
     "output_type": "stream",
     "text": [
      "\r",
      " 64%|███████████████████████████████████████████████████▍                            | 115/179 [05:01<02:57,  2.77s/it]"
     ]
    },
    {
     "name": "stdout",
     "output_type": "stream",
     "text": [
      "TOIHyderabad\n"
     ]
    },
    {
     "name": "stderr",
     "output_type": "stream",
     "text": [
      "\r",
      " 65%|███████████████████████████████████████████████████▊                            | 116/179 [05:04<02:53,  2.75s/it]"
     ]
    },
    {
     "name": "stdout",
     "output_type": "stream",
     "text": [
      "TOIHyderabad\n"
     ]
    },
    {
     "name": "stderr",
     "output_type": "stream",
     "text": [
      "\r",
      " 65%|████████████████████████████████████████████████████▎                           | 117/179 [05:07<02:48,  2.72s/it]"
     ]
    },
    {
     "name": "stdout",
     "output_type": "stream",
     "text": [
      "TOIMumbai\n"
     ]
    },
    {
     "name": "stderr",
     "output_type": "stream",
     "text": [
      "\r",
      " 66%|████████████████████████████████████████████████████▋                           | 118/179 [05:10<02:45,  2.72s/it]"
     ]
    },
    {
     "name": "stdout",
     "output_type": "stream",
     "text": [
      "TOINoida\n"
     ]
    },
    {
     "name": "stderr",
     "output_type": "stream",
     "text": [
      "\r",
      " 66%|█████████████████████████████████████████████████████▏                          | 119/179 [05:12<02:42,  2.71s/it]"
     ]
    },
    {
     "name": "stdout",
     "output_type": "stream",
     "text": [
      "TS_SinghDeo\n"
     ]
    },
    {
     "name": "stderr",
     "output_type": "stream",
     "text": [
      "\r",
      " 67%|█████████████████████████████████████████████████████▋                          | 120/179 [05:15<02:42,  2.76s/it]"
     ]
    },
    {
     "name": "stdout",
     "output_type": "stream",
     "text": [
      "TabeenahAnjum\n"
     ]
    },
    {
     "name": "stderr",
     "output_type": "stream",
     "text": [
      "\r",
      " 68%|██████████████████████████████████████████████████████                          | 121/179 [05:18<02:39,  2.74s/it]"
     ]
    },
    {
     "name": "stdout",
     "output_type": "stream",
     "text": [
      "TabeenahAnjum\n"
     ]
    },
    {
     "name": "stderr",
     "output_type": "stream",
     "text": [
      "\r",
      " 68%|██████████████████████████████████████████████████████▌                         | 122/179 [05:21<02:37,  2.76s/it]"
     ]
    },
    {
     "name": "stdout",
     "output_type": "stream",
     "text": [
      "TabeenahAnjum\n"
     ]
    },
    {
     "name": "stderr",
     "output_type": "stream",
     "text": [
      "\r",
      " 69%|██████████████████████████████████████████████████████▉                         | 123/179 [05:23<02:32,  2.73s/it]"
     ]
    },
    {
     "name": "stdout",
     "output_type": "stream",
     "text": [
      "TabeenahAnjum\n"
     ]
    },
    {
     "name": "stderr",
     "output_type": "stream",
     "text": [
      "\r",
      " 69%|███████████████████████████████████████████████████████▍                        | 124/179 [05:26<02:29,  2.72s/it]"
     ]
    },
    {
     "name": "stdout",
     "output_type": "stream",
     "text": [
      "ThePuneMirror\n"
     ]
    },
    {
     "name": "stderr",
     "output_type": "stream",
     "text": [
      "\r",
      " 70%|███████████████████████████████████████████████████████▊                        | 125/179 [05:29<02:26,  2.72s/it]"
     ]
    },
    {
     "name": "stdout",
     "output_type": "stream",
     "text": [
      "TimesNow\n"
     ]
    },
    {
     "name": "stderr",
     "output_type": "stream",
     "text": [
      "\r",
      " 70%|████████████████████████████████████████████████████████▎                       | 126/179 [05:31<02:22,  2.70s/it]"
     ]
    },
    {
     "name": "stdout",
     "output_type": "stream",
     "text": [
      "Vijayabaskarofl\n"
     ]
    },
    {
     "name": "stderr",
     "output_type": "stream",
     "text": [
      "\r",
      " 71%|████████████████████████████████████████████████████████▊                       | 127/179 [05:34<02:22,  2.73s/it]"
     ]
    },
    {
     "name": "stdout",
     "output_type": "stream",
     "text": [
      "airnewsalerts\n"
     ]
    },
    {
     "name": "stderr",
     "output_type": "stream",
     "text": [
      "\r",
      " 72%|█████████████████████████████████████████████████████████▏                      | 128/179 [05:37<02:19,  2.74s/it]"
     ]
    },
    {
     "name": "stdout",
     "output_type": "stream",
     "text": [
      "diprjk\n"
     ]
    },
    {
     "name": "stderr",
     "output_type": "stream",
     "text": [
      "\r",
      " 72%|█████████████████████████████████████████████████████████▋                      | 129/179 [05:40<02:17,  2.75s/it]"
     ]
    },
    {
     "name": "stdout",
     "output_type": "stream",
     "text": [
      "diprjk\n"
     ]
    },
    {
     "name": "stderr",
     "output_type": "stream",
     "text": [
      "\r",
      " 73%|██████████████████████████████████████████████████████████                      | 130/179 [05:43<02:15,  2.77s/it]"
     ]
    },
    {
     "name": "stdout",
     "output_type": "stream",
     "text": [
      "diprjk\n"
     ]
    },
    {
     "name": "stderr",
     "output_type": "stream",
     "text": [
      "\r",
      " 73%|██████████████████████████████████████████████████████████▌                     | 131/179 [05:45<02:12,  2.77s/it]"
     ]
    },
    {
     "name": "stdout",
     "output_type": "stream",
     "text": [
      "himantabiswa\n"
     ]
    },
    {
     "name": "stderr",
     "output_type": "stream",
     "text": [
      "\r",
      " 74%|██████████████████████████████████████████████████████████▉                     | 132/179 [05:48<02:11,  2.80s/it]"
     ]
    },
    {
     "name": "stdout",
     "output_type": "stream",
     "text": [
      "kansalrohit69\n"
     ]
    },
    {
     "name": "stderr",
     "output_type": "stream",
     "text": [
      "\r",
      " 74%|███████████████████████████████████████████████████████████▍                    | 133/179 [05:51<02:06,  2.76s/it]"
     ]
    },
    {
     "name": "stdout",
     "output_type": "stream",
     "text": [
      "kansalrohit69\n"
     ]
    },
    {
     "name": "stderr",
     "output_type": "stream",
     "text": [
      "\r",
      " 75%|███████████████████████████████████████████████████████████▉                    | 134/179 [05:53<02:03,  2.74s/it]"
     ]
    },
    {
     "name": "stdout",
     "output_type": "stream",
     "text": [
      "kansalrohit69\n"
     ]
    },
    {
     "name": "stderr",
     "output_type": "stream",
     "text": [
      "\r",
      " 75%|████████████████████████████████████████████████████████████▎                   | 135/179 [05:56<02:01,  2.75s/it]"
     ]
    },
    {
     "name": "stdout",
     "output_type": "stream",
     "text": [
      "kansalrohit69\n"
     ]
    },
    {
     "name": "stderr",
     "output_type": "stream",
     "text": [
      "\r",
      " 76%|████████████████████████████████████████████████████████████▊                   | 136/179 [05:59<01:57,  2.73s/it]"
     ]
    },
    {
     "name": "stdout",
     "output_type": "stream",
     "text": [
      "kbssidhu1961\n"
     ]
    },
    {
     "name": "stderr",
     "output_type": "stream",
     "text": [
      "\r",
      " 77%|█████████████████████████████████████████████████████████████▏                  | 137/179 [06:02<01:55,  2.74s/it]"
     ]
    },
    {
     "name": "stdout",
     "output_type": "stream",
     "text": [
      "kbssidhu1961\n"
     ]
    },
    {
     "name": "stderr",
     "output_type": "stream",
     "text": [
      "\r",
      " 77%|█████████████████████████████████████████████████████████████▋                  | 138/179 [06:04<01:52,  2.74s/it]"
     ]
    },
    {
     "name": "stdout",
     "output_type": "stream",
     "text": [
      "kbssidhu1961\n"
     ]
    },
    {
     "name": "stderr",
     "output_type": "stream",
     "text": [
      "\r",
      " 78%|██████████████████████████████████████████████████████████████                  | 139/179 [06:07<01:51,  2.78s/it]"
     ]
    },
    {
     "name": "stdout",
     "output_type": "stream",
     "text": [
      "kbssidhu1961\n"
     ]
    },
    {
     "name": "stderr",
     "output_type": "stream",
     "text": [
      "\r",
      " 78%|██████████████████████████████████████████████████████████████▌                 | 140/179 [06:10<01:48,  2.77s/it]"
     ]
    },
    {
     "name": "stdout",
     "output_type": "stream",
     "text": [
      "kbssidhu1961\n"
     ]
    },
    {
     "name": "stderr",
     "output_type": "stream",
     "text": [
      "\r",
      " 79%|███████████████████████████████████████████████████████████████                 | 141/179 [06:13<01:46,  2.80s/it]"
     ]
    },
    {
     "name": "stdout",
     "output_type": "stream",
     "text": [
      "kbssidhu1961\n"
     ]
    },
    {
     "name": "stderr",
     "output_type": "stream",
     "text": [
      "\r",
      " 79%|███████████████████████████████████████████████████████████████▍                | 142/179 [06:16<01:43,  2.81s/it]"
     ]
    },
    {
     "name": "stdout",
     "output_type": "stream",
     "text": [
      "kbssidhu1961\n"
     ]
    },
    {
     "name": "stderr",
     "output_type": "stream",
     "text": [
      "\r",
      " 80%|███████████████████████████████████████████████████████████████▉                | 143/179 [06:18<01:39,  2.76s/it]"
     ]
    },
    {
     "name": "stdout",
     "output_type": "stream",
     "text": [
      "kbssidhu1961\n"
     ]
    },
    {
     "name": "stderr",
     "output_type": "stream",
     "text": [
      "\r",
      " 80%|████████████████████████████████████████████████████████████████▎               | 144/179 [06:21<01:38,  2.81s/it]"
     ]
    },
    {
     "name": "stdout",
     "output_type": "stream",
     "text": [
      "kbssidhu1961\n"
     ]
    },
    {
     "name": "stderr",
     "output_type": "stream",
     "text": [
      "\r",
      " 81%|████████████████████████████████████████████████████████████████▊               | 145/179 [06:24<01:34,  2.78s/it]"
     ]
    },
    {
     "name": "stdout",
     "output_type": "stream",
     "text": [
      "kbssidhu1961\n"
     ]
    },
    {
     "name": "stderr",
     "output_type": "stream",
     "text": [
      "\r",
      " 82%|█████████████████████████████████████████████████████████████████▎              | 146/179 [06:27<01:31,  2.76s/it]"
     ]
    },
    {
     "name": "stdout",
     "output_type": "stream",
     "text": [
      "kbssidhu1961\n"
     ]
    },
    {
     "name": "stderr",
     "output_type": "stream",
     "text": [
      "\r",
      " 82%|█████████████████████████████████████████████████████████████████▋              | 147/179 [06:29<01:27,  2.73s/it]"
     ]
    },
    {
     "name": "stdout",
     "output_type": "stream",
     "text": [
      "kbssidhu1961\n"
     ]
    },
    {
     "name": "stderr",
     "output_type": "stream",
     "text": [
      "\r",
      " 83%|██████████████████████████████████████████████████████████████████▏             | 148/179 [06:32<01:25,  2.77s/it]"
     ]
    },
    {
     "name": "stdout",
     "output_type": "stream",
     "text": [
      "kbssidhu1961\n"
     ]
    },
    {
     "name": "stderr",
     "output_type": "stream",
     "text": [
      "\r",
      " 83%|██████████████████████████████████████████████████████████████████▌             | 149/179 [06:35<01:22,  2.74s/it]"
     ]
    },
    {
     "name": "stdout",
     "output_type": "stream",
     "text": [
      "kbssidhu1961\n"
     ]
    },
    {
     "name": "stderr",
     "output_type": "stream",
     "text": [
      "\r",
      " 84%|███████████████████████████████████████████████████████████████████             | 150/179 [06:38<01:19,  2.74s/it]"
     ]
    },
    {
     "name": "stdout",
     "output_type": "stream",
     "text": [
      "kbssidhu1961\n"
     ]
    },
    {
     "name": "stderr",
     "output_type": "stream",
     "text": [
      "\r",
      " 84%|███████████████████████████████████████████████████████████████████▍            | 151/179 [06:41<01:17,  2.77s/it]"
     ]
    },
    {
     "name": "stdout",
     "output_type": "stream",
     "text": [
      "kbssidhu1961\n"
     ]
    },
    {
     "name": "stderr",
     "output_type": "stream",
     "text": [
      "\r",
      " 85%|███████████████████████████████████████████████████████████████████▉            | 152/179 [06:43<01:14,  2.74s/it]"
     ]
    },
    {
     "name": "stdout",
     "output_type": "stream",
     "text": [
      "kbssidhu1961\n"
     ]
    },
    {
     "name": "stderr",
     "output_type": "stream",
     "text": [
      "\r",
      " 85%|████████████████████████████████████████████████████████████████████▍           | 153/179 [06:46<01:11,  2.73s/it]"
     ]
    },
    {
     "name": "stdout",
     "output_type": "stream",
     "text": [
      "kbssidhu1961\n"
     ]
    },
    {
     "name": "stderr",
     "output_type": "stream",
     "text": [
      "\r",
      " 86%|████████████████████████████████████████████████████████████████████▊           | 154/179 [06:49<01:08,  2.73s/it]"
     ]
    },
    {
     "name": "stdout",
     "output_type": "stream",
     "text": [
      "kbssidhu1961\n"
     ]
    },
    {
     "name": "stderr",
     "output_type": "stream",
     "text": [
      "\r",
      " 87%|█████████████████████████████████████████████████████████████████████▎          | 155/179 [06:51<01:05,  2.72s/it]"
     ]
    },
    {
     "name": "stdout",
     "output_type": "stream",
     "text": [
      "kbssidhu1961\n"
     ]
    },
    {
     "name": "stderr",
     "output_type": "stream",
     "text": [
      "\r",
      " 87%|█████████████████████████████████████████████████████████████████████▋          | 156/179 [06:54<01:02,  2.70s/it]"
     ]
    },
    {
     "name": "stdout",
     "output_type": "stream",
     "text": [
      "kbssidhu1961\n"
     ]
    },
    {
     "name": "stderr",
     "output_type": "stream",
     "text": [
      "\r",
      " 88%|██████████████████████████████████████████████████████████████████████▏         | 157/179 [06:57<01:00,  2.74s/it]"
     ]
    },
    {
     "name": "stdout",
     "output_type": "stream",
     "text": [
      "kbssidhu1961\n"
     ]
    },
    {
     "name": "stderr",
     "output_type": "stream",
     "text": [
      "\r",
      " 88%|██████████████████████████████████████████████████████████████████████▌         | 158/179 [07:00<00:57,  2.74s/it]"
     ]
    },
    {
     "name": "stdout",
     "output_type": "stream",
     "text": [
      "kbssidhu1961\n"
     ]
    },
    {
     "name": "stderr",
     "output_type": "stream",
     "text": [
      "\r",
      " 89%|███████████████████████████████████████████████████████████████████████         | 159/179 [07:02<00:54,  2.72s/it]"
     ]
    },
    {
     "name": "stdout",
     "output_type": "stream",
     "text": [
      "kbssidhu1961\n"
     ]
    },
    {
     "name": "stderr",
     "output_type": "stream",
     "text": [
      "\r",
      " 89%|███████████████████████████████████████████████████████████████████████▌        | 160/179 [07:05<00:51,  2.71s/it]"
     ]
    },
    {
     "name": "stdout",
     "output_type": "stream",
     "text": [
      "kbssidhu1961\n"
     ]
    },
    {
     "name": "stderr",
     "output_type": "stream",
     "text": [
      "\r",
      " 90%|███████████████████████████████████████████████████████████████████████▉        | 161/179 [07:08<00:48,  2.70s/it]"
     ]
    },
    {
     "name": "stdout",
     "output_type": "stream",
     "text": [
      "error\n"
     ]
    },
    {
     "name": "stderr",
     "output_type": "stream",
     "text": [
      "\r",
      " 91%|████████████████████████████████████████████████████████████████████████▍       | 162/179 [07:09<00:38,  2.29s/it]"
     ]
    },
    {
     "name": "stdout",
     "output_type": "stream",
     "text": [
      "kbssidhu1961\n"
     ]
    },
    {
     "name": "stderr",
     "output_type": "stream",
     "text": [
      "\r",
      " 91%|████████████████████████████████████████████████████████████████████████▊       | 163/179 [07:12<00:38,  2.44s/it]"
     ]
    },
    {
     "name": "stdout",
     "output_type": "stream",
     "text": [
      "kbssidhu1961\n"
     ]
    },
    {
     "name": "stderr",
     "output_type": "stream",
     "text": [
      "\r",
      " 92%|█████████████████████████████████████████████████████████████████████████▎      | 164/179 [07:15<00:38,  2.56s/it]"
     ]
    },
    {
     "name": "stdout",
     "output_type": "stream",
     "text": [
      "mybmc\n"
     ]
    },
    {
     "name": "stderr",
     "output_type": "stream",
     "text": [
      "\r",
      " 92%|█████████████████████████████████████████████████████████████████████████▋      | 165/179 [07:17<00:37,  2.65s/it]"
     ]
    },
    {
     "name": "stdout",
     "output_type": "stream",
     "text": [
      "nagarkoti\n"
     ]
    },
    {
     "name": "stderr",
     "output_type": "stream",
     "text": [
      "\r",
      " 93%|██████████████████████████████████████████████████████████████████████████▏     | 166/179 [07:20<00:34,  2.67s/it]"
     ]
    },
    {
     "name": "stdout",
     "output_type": "stream",
     "text": [
      "error\n"
     ]
    },
    {
     "name": "stderr",
     "output_type": "stream",
     "text": [
      "\r",
      " 93%|██████████████████████████████████████████████████████████████████████████▋     | 167/179 [07:21<00:27,  2.26s/it]"
     ]
    },
    {
     "name": "stdout",
     "output_type": "stream",
     "text": [
      "rajeshtope11\n"
     ]
    },
    {
     "name": "stderr",
     "output_type": "stream",
     "text": [
      "\r",
      " 94%|███████████████████████████████████████████████████████████████████████████     | 168/179 [07:24<00:26,  2.41s/it]"
     ]
    },
    {
     "name": "stdout",
     "output_type": "stream",
     "text": [
      "rajeshtope11\n"
     ]
    },
    {
     "name": "stderr",
     "output_type": "stream",
     "text": [
      "\r",
      " 94%|███████████████████████████████████████████████████████████████████████████▌    | 169/179 [07:27<00:24,  2.50s/it]"
     ]
    },
    {
     "name": "stdout",
     "output_type": "stream",
     "text": [
      "sanjayjavin\n"
     ]
    },
    {
     "name": "stderr",
     "output_type": "stream",
     "text": [
      "\r",
      " 95%|███████████████████████████████████████████████████████████████████████████▉    | 170/179 [07:30<00:23,  2.56s/it]"
     ]
    },
    {
     "name": "stdout",
     "output_type": "stream",
     "text": [
      "sriramulubjp\n"
     ]
    },
    {
     "name": "stderr",
     "output_type": "stream",
     "text": [
      "\r",
      " 96%|████████████████████████████████████████████████████████████████████████████▍   | 171/179 [07:32<00:20,  2.59s/it]"
     ]
    },
    {
     "name": "stdout",
     "output_type": "stream",
     "text": [
      "sriramulubjp\n"
     ]
    },
    {
     "name": "stderr",
     "output_type": "stream",
     "text": [
      "\r",
      " 96%|████████████████████████████████████████████████████████████████████████████▊   | 172/179 [07:35<00:18,  2.62s/it]"
     ]
    },
    {
     "name": "stdout",
     "output_type": "stream",
     "text": [
      "sriramulubjp\n"
     ]
    },
    {
     "name": "stderr",
     "output_type": "stream",
     "text": [
      "\r",
      " 97%|█████████████████████████████████████████████████████████████████████████████▎  | 173/179 [07:38<00:15,  2.66s/it]"
     ]
    },
    {
     "name": "stdout",
     "output_type": "stream",
     "text": [
      "sriramulubjp\n"
     ]
    },
    {
     "name": "stderr",
     "output_type": "stream",
     "text": [
      "\r",
      " 97%|█████████████████████████████████████████████████████████████████████████████▊  | 174/179 [07:40<00:13,  2.67s/it]"
     ]
    },
    {
     "name": "stdout",
     "output_type": "stream",
     "text": [
      "the_hindu\n"
     ]
    },
    {
     "name": "stderr",
     "output_type": "stream",
     "text": [
      "\r",
      " 98%|██████████████████████████████████████████████████████████████████████████████▏ | 175/179 [07:43<00:10,  2.72s/it]"
     ]
    },
    {
     "name": "stdout",
     "output_type": "stream",
     "text": [
      "timesofindia\n"
     ]
    },
    {
     "name": "stderr",
     "output_type": "stream",
     "text": [
      "\r",
      " 98%|██████████████████████████████████████████████████████████████████████████████▋ | 176/179 [07:46<00:08,  2.70s/it]"
     ]
    },
    {
     "name": "stdout",
     "output_type": "stream",
     "text": [
      "tv9gujarati\n"
     ]
    },
    {
     "name": "stderr",
     "output_type": "stream",
     "text": [
      "\r",
      " 99%|███████████████████████████████████████████████████████████████████████████████ | 177/179 [07:49<00:05,  2.71s/it]"
     ]
    },
    {
     "name": "stdout",
     "output_type": "stream",
     "text": [
      "wilson_thehindu\n"
     ]
    },
    {
     "name": "stderr",
     "output_type": "stream",
     "text": [
      "\r",
      " 99%|███████████████████████████████████████████████████████████████████████████████▌| 178/179 [07:51<00:02,  2.75s/it]"
     ]
    },
    {
     "name": "stdout",
     "output_type": "stream",
     "text": [
      "xpressandhra\n"
     ]
    },
    {
     "name": "stderr",
     "output_type": "stream",
     "text": [
      "100%|████████████████████████████████████████████████████████████████████████████████| 179/179 [07:54<00:00,  2.75s/it]\n"
     ]
    }
   ],
   "source": [
    "extracted_tweets = {}\n",
    "created_at = {}\n",
    "words = \" \"\n",
    "user_counts = {}\n",
    "users = []\n",
    "\n",
    "for url in tqdm(np.unique(tweet_urls)):\n",
    "    url_splitted = url.split(\"/\")\n",
    "    try:        \n",
    "        #tweet_id = re.search(r'[0-9]{19}', url)\n",
    "        #if tweet_id:\n",
    "        if len(url_splitted)>=4:\n",
    "            tweet_id = url_splitted[-1]\n",
    "            tweet = api.get_status(tweet_id)\n",
    "            creationDate = tweet.created_at\n",
    "            extracted_tweets[url] = tweet\n",
    "            created_at[creationDate] = tweet.text\n",
    "            words = words + \" \" + tweet.text  \n",
    "        if len(url_splitted)>4:\n",
    "            user_screen_name = url_splitted[-3]\n",
    "            print(user_screen_name)\n",
    "            user = api.get_user(user_screen_name)\n",
    "            users.append(user)\n",
    "            if user_screen_name in user_counts.keys():\n",
    "                user_counts[user_screen_name] += 1\n",
    "            else:\n",
    "                user_counts[user_screen_name] = 0  \n",
    "    except:\n",
    "        print(\"error\")"
   ]
  },
  {
   "cell_type": "markdown",
   "metadata": {},
   "source": [
    "# Twitter profiles with the most number of COVID19 posts"
   ]
  },
  {
   "cell_type": "code",
   "execution_count": 17,
   "metadata": {
    "scrolled": true
   },
   "outputs": [
    {
     "name": "stdout",
     "output_type": "stream",
     "text": [
      "[('ANI', 39), ('kbssidhu1961', 26), ('PTI_News', 17), ('TOIAhmedabad', 6), ('ArogyaAndhra', 6), ('TOIHyderabad', 4), ('PIBAhmedabad', 4), ('sriramulubjp', 3), ('kansalrohit69', 3), ('TabeenahAnjum', 3), ('PIBJaipur', 3), ('IPR_Odisha', 3), ('diprjk', 2), ('rajeshtope11', 1), ('THMumbai', 1), ('THChennai', 1), ('ANINewsUP', 1), ('xpressandhra', 0), ('wilson_thehindu', 0), ('tv9gujarati', 0), ('timesofindia', 0), ('the_hindu', 0), ('sanjayjavin', 0), ('nagarkoti', 0), ('mybmc', 0), ('himantabiswa', 0), ('airnewsalerts', 0), ('Vijayabaskarofl', 0), ('TimesNow', 0), ('ThePuneMirror', 0), ('TS_SinghDeo', 0), ('TOINoida', 0), ('TOIMumbai', 0), ('TOIBengaluru', 0), ('SreyashiDey', 0), ('PIBTvpm', 0), ('PIBShimla', 0), ('NHM_TN', 0), ('MoHFW_GUJARAT', 0), ('JansamparkMP', 0), ('IPRTelangana', 0), ('HuffPostIndia', 0), ('HFWOdisha', 0), ('DHFWKA', 0), ('ChetanSanghi', 0), ('CMODelhi', 0), ('AamAadmiParty', 0)]\n"
     ]
    }
   ],
   "source": [
    "sorted_users = sorted(user_counts.items(), key = lambda kv:(kv[1], kv[0]), reverse = True) \n",
    "print(sorted_users)\n",
    "first_key = next(iter(sorted_users))\n",
    "print(first_key)\n",
    "first_user = api.get_user(\"ANI\")\n",
    "verified = first_user.verified\n",
    "print(verified)"
   ]
  },
  {
   "cell_type": "markdown",
   "metadata": {},
   "source": [
    "# Most recent tweets"
   ]
  },
  {
   "cell_type": "code",
   "execution_count": 16,
   "metadata": {},
   "outputs": [
    {
     "name": "stdout",
     "output_type": "stream",
     "text": [
      "0\n",
      "#COVID19 cases reach 858 in Telangana including 186 patients who have been cured &amp; 21 deaths: Chief Minister K Chan… https://t.co/PLVR6am2ps\n",
      "1\n",
      "Chandigarh update: \n",
      "\n",
      "Three family members of Sector 30 woman tested positive \n",
      "\n",
      "Total count: 26\n",
      "\n",
      "#Covid_19\n",
      "\n",
      "@timesofindia @manuparida1\n",
      "2\n",
      "PATIALA:15 new positive cases, all traced to just two previous positive cases.\n",
      "\n",
      "1. 9 positive cases related to the… https://t.co/q51HQfWOGc\n",
      "3\n",
      "Patient Details of #Covid19 #Odisha Case no: 61 \n",
      "\n",
      "One 58 years Old Male of Balasore District Tested Positive for… https://t.co/fTn51aD42V\n",
      "4\n",
      "#CoronaVirusUpdates \n",
      "#Rajasthan\n",
      "\n",
      "New  #Covid19 positive cases: 12\n",
      "\n",
      "Positive cases in #Rajasthan today : 53\n",
      "\n",
      "#Ajmer… https://t.co/DtwA7as6bR\n",
      "5\n",
      "This positive is from Bambooflat. 400+ teams conducting door to door surveillance found him \n",
      "\n",
      "He should have report… https://t.co/8d65Edv6cP\n",
      "6\n",
      "Out of the 7 deaths today, 5 were men and 2 were women. 4 of them aged over 60 years and 3 were from the age group… https://t.co/bF2m13UNZI\n",
      "7\n",
      "286 more #COVID19 cases &amp; 7 deaths (4 in Pune &amp; 3 in Mumbai) reported in Maharashtra today, taking the total number… https://t.co/rGP1br1oom\n",
      "8\n",
      "Covid-19: 7  more  tests positive in Kerala today\n",
      "Kannur -4\n",
      "Kozhikode -2 \n",
      "Kasargod -1\n",
      "\n",
      "കേരളത്തിൽ  ഇന്ന്  7  പേർക്ക്… https://t.co/bTU2S2rpSL\n",
      "9\n",
      "#Gujarat #CoronaVirusUpdates #Gujaratcorona\n",
      "રાજ્યમાં સવાર થી સાંજ સુધીમા #COVID19 ના વધુ 71 નવા કેસ નોંધાયા જેમાં… https://t.co/WenuCSXh3z\n"
     ]
    }
   ],
   "source": [
    "sorted_list = sorted(created_at.keys(), reverse = True)\n",
    "#print(sorted_list)..\n",
    "for index in range(10):\n",
    "    print(index)\n",
    "    date = sorted_list[index]\n",
    "    recent_tweet = created_at[date]\n",
    "    print(recent_tweet)"
   ]
  },
  {
   "cell_type": "markdown",
   "metadata": {},
   "source": [
    "# word Cloud of all the Tweets"
   ]
  },
  {
   "cell_type": "code",
   "execution_count": 20,
   "metadata": {},
   "outputs": [
    {
     "name": "stdout",
     "output_type": "stream",
     "text": [
      "Collecting wordcloud\n",
      "  Downloading https://files.pythonhosted.org/packages/65/41/abefdda082c7b211248e412fb2c7a8dc69d474f18ed61a5a784f20f73bb7/wordcloud-1.7.0-cp37-cp37m-win_amd64.whl (157kB)\n",
      "Requirement already satisfied: matplotlib in c:\\programdata\\anaconda3\\lib\\site-packages (from wordcloud) (3.0.2)\n",
      "Requirement already satisfied: numpy>=1.6.1 in c:\\programdata\\anaconda3\\lib\\site-packages (from wordcloud) (1.15.4)\n",
      "Requirement already satisfied: pillow in c:\\programdata\\anaconda3\\lib\\site-packages (from wordcloud) (5.3.0)\n",
      "Requirement already satisfied: cycler>=0.10 in c:\\programdata\\anaconda3\\lib\\site-packages (from matplotlib->wordcloud) (0.10.0)\n",
      "Requirement already satisfied: kiwisolver>=1.0.1 in c:\\programdata\\anaconda3\\lib\\site-packages (from matplotlib->wordcloud) (1.0.1)\n",
      "Requirement already satisfied: pyparsing!=2.0.4,!=2.1.2,!=2.1.6,>=2.0.1 in c:\\programdata\\anaconda3\\lib\\site-packages (from matplotlib->wordcloud) (2.3.0)\n",
      "Requirement already satisfied: python-dateutil>=2.1 in c:\\programdata\\anaconda3\\lib\\site-packages (from matplotlib->wordcloud) (2.7.5)\n",
      "Requirement already satisfied: six in c:\\programdata\\anaconda3\\lib\\site-packages (from cycler>=0.10->matplotlib->wordcloud) (1.12.0)\n",
      "Requirement already satisfied: setuptools in c:\\programdata\\anaconda3\\lib\\site-packages (from kiwisolver>=1.0.1->matplotlib->wordcloud) (40.6.3)\n",
      "Installing collected packages: wordcloud\n",
      "Successfully installed wordcloud-1.7.0\n"
     ]
    }
   ],
   "source": [
    "!pip install wordcloud\n",
    "import tweepy, json, random\n",
    "from tweepy import OAuthHandler\n",
    "import matplotlib.pyplot as plt\n",
    "from wordcloud import WordCloud, STOPWORDS\n",
    "from scipy.misc import imread"
   ]
  },
  {
   "cell_type": "code",
   "execution_count": 30,
   "metadata": {},
   "outputs": [
    {
     "data": {
      "image/png": "[encoded data removed]",
      "text/plain": [
       "<Figure size 432x288 with 1 Axes>"
      ]
     },
     "metadata": {
      "needs_background": "light"
     },
     "output_type": "display_data"
    }
   ],
   "source": [
    "stopwords = [\"in\", \"https\", \"co\"]\n",
    "wordcloud = WordCloud(background_color=\"black\", stopwords=STOPWORDS.union(stopwords), max_words=500, width=1800, height=1400).generate(words)\n",
    "plt.imshow(wordcloud.recolor(random_state=3))\n",
    "plt.axis(\"off\")\n",
    "plt.show()"
   ]
  },
  {
   "cell_type": "markdown",
   "metadata": {},
   "source": [
    "# Information about twitter handles\n",
    "Verified/Unverfied handles, number of likes, followers, following etc."
   ]
  },
  {
   "cell_type": "code",
   "execution_count": 40,
   "metadata": {},
   "outputs": [
    {
     "name": "stdout",
     "output_type": "stream",
     "text": [
      "IPRTelangana\n",
      "MoHFW_GUJARAT\n",
      "PIBShimla\n",
      "SreyashiDey\n",
      "diprjk\n",
      "diprjk\n",
      "diprjk\n",
      "kansalrohit69\n",
      "kansalrohit69\n",
      "kansalrohit69\n",
      "kansalrohit69\n",
      "kbssidhu1961\n",
      "kbssidhu1961\n",
      "kbssidhu1961\n",
      "kbssidhu1961\n",
      "kbssidhu1961\n",
      "kbssidhu1961\n",
      "kbssidhu1961\n",
      "kbssidhu1961\n",
      "kbssidhu1961\n",
      "kbssidhu1961\n",
      "kbssidhu1961\n",
      "kbssidhu1961\n",
      "kbssidhu1961\n",
      "kbssidhu1961\n",
      "kbssidhu1961\n",
      "kbssidhu1961\n",
      "kbssidhu1961\n",
      "kbssidhu1961\n",
      "kbssidhu1961\n",
      "kbssidhu1961\n",
      "kbssidhu1961\n",
      "kbssidhu1961\n",
      "kbssidhu1961\n",
      "kbssidhu1961\n",
      "kbssidhu1961\n",
      "kbssidhu1961\n",
      "kbssidhu1961\n",
      "nagarkoti\n",
      "sanjayjavin\n",
      "wilson_thehindu\n",
      "xpressandhra\n"
     ]
    }
   ],
   "source": [
    "verified_sources = 0\n",
    "unverified_sources = 0\n",
    "statuses_sum = 0\n",
    "followers_sum = 0\n",
    "following_sum = 0\n",
    "likes_sum = 0\n",
    "for user in users:\n",
    "    if user.verified:\n",
    "        verified_sources += 1\n",
    "    else:\n",
    "        unverified_sources += 1 \n",
    "        print(user.screen_name)\n",
    "        total_statuses = user.statuses_count\n",
    "        statuses_sum += total_statuses\n",
    "        followers = user.followers_count\n",
    "        followers_sum += followers\n",
    "        following = user.following\n",
    "        following_sum += following\n",
    "#         if followers > following:\n",
    "#             ratio = int(followers/following)\n",
    "#         else:\n",
    "#             ratio = int(following/followers)\n",
    "        diff = abs(followers - following)\n",
    "        total_likes = user.favourites_count\n",
    "        avg_likes = total_likes / total_statuses\n",
    "        likes_sum += avg_likes\n",
    "avg_statuses = statuses_sum / unverified_sources\n",
    "avg_likes_per_user_per_post = likes_sum/unverified_sources\n",
    "avg_followers = followers_sum/unverified_sources\n",
    "avg_following = following_sum/unverified_sources\n",
    "avg_diff = diff/unverified_sources"
   ]
  },
  {
   "cell_type": "code",
   "execution_count": 38,
   "metadata": {},
   "outputs": [
    {
     "name": "stdout",
     "output_type": "stream",
     "text": [
      "The total tweets from verified accounts are 128\n",
      "The total tweets from unverified accounts are 42\n",
      "For the unverified accounts:\n",
      "Average statuses per person: 43364.95238095238\n",
      "Average likes per post per person: 0.6713976435406005\n",
      "Average followers: 37503.47619047619\n",
      "Average following: 0.0\n",
      "Average difference between followers and following: 49.785714285714285\n"
     ]
    }
   ],
   "source": [
    "print(\"The total tweets from verified accounts are \" + str(verified_sources))\n",
    "print(\"The total tweets from unverified accounts are \" + str(unverified_sources))\n",
    "print(\"For the unverified accounts:\")\n",
    "print(\"Average statuses per person: \" + str(avg_statuses))\n",
    "print(\"Average likes per post per person: \" + str(avg_likes_per_user_per_post))\n",
    "print(\"Average followers: \" + str(avg_followers))\n",
    "print(\"Average following: \" + str(avg_following))\n",
    "print(\"Average difference between followers and following: \" + str(avg_diff))"
   ]
  },
  {
   "cell_type": "code",
   "execution_count": 13,
   "metadata": {},
   "outputs": [],
   "source": [
    "tweet_text_list = created_at.values()"
   ]
  },
  {
   "cell_type": "code",
   "execution_count": 19,
   "metadata": {},
   "outputs": [
    {
     "name": "stdout",
     "output_type": "stream",
     "text": [
      "LIST OF TWEETS WITH PIIs\n",
      "\n",
      "Madhya Pradesh: A 36-year-old man has tested positive for #coronavirus in Chhindwara. The district administration i… https://t.co/ez3DeukJyn\n",
      "\n",
      "47 fresh Coronovirus positive cases reported in Maharashtra today- 28 in Mumbai, 15 in Thane district, 1 in Amravat… https://t.co/OZBu7mrGMA\n",
      "\n",
      "7 new cases of #COVID19 have been reported in Gujarat today. Total cases in the state stands at 186 of which 143 ar… https://t.co/3YJfdIjXOh\n",
      "\n",
      "Out of the 7 deaths today, 5 were men and 2 were women. 4 of them aged over 60 years and 3 were from the age group… https://t.co/bF2m13UNZI\n",
      "\n",
      "#COVID_19 - Update on Patient No. 14 - Andhra Pradesh\n",
      "Patient 14 (58-year-old male) from Macherla, Guntur District… https://t.co/x5Khf7p8SH\n",
      "\n",
      "#COVID_19 - Update on Patient No. 15 - Andhra Pradesh\n",
      "Patient 15 (21-year-old male) from Macherla, Guntur District… https://t.co/Vd42gjlheW\n",
      "\n",
      "COVID-19 - Update on Patient No. 16 - #AndhraPradesh\n",
      "A 60 years-old male from Chirala, #Prakasam district has retur… https://t.co/IQ9r7kIfEK\n",
      "\n",
      "Today we also recorded a recovery case of patient 3. A man who's a diabetic and hypertensive aged 65 years old who… https://t.co/16zOlrIvKr\n",
      "\n",
      "The latest @COVID19 positive case in the State is a 60 years old male. Contact tracing exercise has commenced.\n",
      "\n",
      "Gujarat reported the death of a #coronavirus patient, the first in the state. The death toll in India is now 7. https://t.co/YhCBHb5VcR\n",
      "\n",
      "Patient Details of #Covid19 #Odisha Case no: 61 \n",
      "\n",
      "One 58 years Old Male of Balasore District Tested Positive for… https://t.co/fTn51aD42V\n",
      "\n",
      "One #COVID19 positive patient, Female, 85 years, died in Ahmedabad today. She has travelled abroad and after develo… https://t.co/juhEZdQt3T\n",
      "\n",
      "#GujaratCoronaUpdate #COVID2019 \n",
      "આજે કોરોનાના બીજા 19 પોઝિટિવ કેસ નોંધાયા છે.જેમાં 13 કેસ અમદાવાદના છે અને ત્રણ કેસ… https://t.co/GPaziwkY6b\n",
      "\n",
      "#Gujarat #CoronaVirusUpdates #Gujaratcorona\n",
      "\n",
      "રાજ્યમાં #COVID19 ના આજે વધુ 55 નવા કેસ નોંધાયા જેમાં અમદાવાદમાં 50,સુ… https://t.co/yC5GUwerCQ\n",
      "\n",
      "#Gujarat #CoronaVirusUpdates #Gujaratcorona\n",
      "રાજ્યમાં  #COVID19 ના વધુ 22 નવા કેસ નોંધાયા જેમાં સૌથી વધારે અમદાવાદના… https://t.co/1qQXIKw7N3\n",
      "\n",
      "#Gujarat #CoronaVirusUpdates #Gujaratcorona\n",
      "રાજ્યમાં સવારથી સાંજ સુધીમા  #COVID19 ના વધુ 34 નવા કેસ નોંધાયા જેમાં… https://t.co/4yb9X8EHua\n",
      "\n",
      "#Gujarat #CoronaVirusUpdates #Gujaratcorona\n",
      "રાજ્યમાં સવાર થી સાંજ સુધીમા #COVID19 ના વધુ 71 નવા કેસ નોંધાયા જેમાં… https://t.co/WenuCSXh3z\n",
      "\n",
      "Another person tests positive for coronavirus in Pimpri-Chinchwad, taking number of infections in Pune district to 19: Official\n",
      "\n",
      "Two positive cases of coronavirus found in Gujarat; first infections reported from state: Health department\n",
      "\n",
      "3 new #coronavirus cases in Gujarat, total rises to 47: Health department official. (PTI)\n",
      "#Covid_19\n",
      "#CoronavirusOutbreak\n",
      "#CautionYesPanicNo\n",
      "\n",
      "One more #Covid19 positive case from #Surat, total number of positive cases in #Gujarat is 74\n",
      "\n",
      "Five new #coronavirus cases reported in #Gujarat; state's tally climbs to 87 #CoronavirusOutbreak #CautionYesPanicNo\n",
      "\n",
      "Seven test positive for #COVID19 in Ahmedabad, Gujarat tally reaches 95\n",
      "\n",
      "#Coronavirus \n",
      "\n",
      "#CautionYesPanicNo\n",
      "\n",
      "Of the three new #COVID positive patients from #Gujarat, one from #Ahmedabad has a domestic travel history whereas… https://t.co/ld9n0LyHZP\n",
      "\n",
      "Three positive cases in Noida. Mother and son from sector 37 where another family member had returned from Switzerl… https://t.co/hAvphCzd46\n",
      "\n",
      "Himachal Pradesh: Three more #COVID19 positive cases were found in Una district today.\n",
      "\n",
      "With this, the number of co… https://t.co/CvHZMQUFNH\n",
      "\n",
      "Alert ~ One more #Covid_19 positive case from North Lakhimpur District has  been confirmed, taking the total number… https://t.co/yjmU8rm1Z4\n",
      "\n",
      "#COVID19\n",
      "#JammuAndKashmir \n",
      "Two more positive cases in Srinagar. Siblings (7 years old and 8 months old)- grandchild… https://t.co/0fCKNbr8es\n",
      "\n",
      "#COVID19 #JammuAndKashmir \n",
      "4 more positive cases in Kashmir; all from Srinagar district - 2 have travel history abr… https://t.co/c7Aem9olU4\n",
      "\n",
      "SAD NEWS: 7th Death In Punjab due to Corona Virus in Amritsar Hospital. The patient was 75 years old &amp; was a reside… https://t.co/FO2J0SJ4PG\n",
      "\n",
      "BREAKING LATE NIGHT ROPAR — TWO MORE POSITIVE DATE\n",
      "\n",
      "Recent  update for village Chatamali case , two primary contact… https://t.co/woOEMoBiBV\n",
      "\n",
      "MOHALI-- CLARIFICATORY UPDATE\n",
      "\n",
      "The two women who were tested positive yesterday in Mohali: \n",
      "\n",
      "Manjit Kaur (55 years)… https://t.co/LAopy9tHDu\n",
      "\n",
      "BREAKING:\n",
      "\n",
      "One more TJ Marqaz case reported POSITIVE in Jagraon tehsil of Ludhiana district.\n",
      "\n",
      "((Follow the thread t… https://t.co/THOESefax4\n",
      "\n",
      "KAPURTHALA UPDATE for the TJ man who tested positive YESTERDAY.\n",
      "\n",
      "He is 17-year old boy and was residing in village… https://t.co/c7gi08hsmb\n",
      "\n",
      "MOGA-- One tests Positive\n",
      "\n",
      "A Muslim man, 35 years old from V. Cheeda of tehsil Baghapurana tests +ve. Not strictly… https://t.co/0pHeehZPsy\n",
      "\n",
      "BREAKING-- 7 more test cluster POSITIVE in Mohali district.\n",
      "\n",
      "7 more positive cases from village Jawaharpur, tehsil… https://t.co/nKEFPnwMKD\n",
      "\n",
      "@bansalmanav No. Some workers in his small-time bakery in the village, other the usual contacts.\n",
      "\n",
      "Chandigarh update: \n",
      "\n",
      "Three family members of Sector 30 woman tested positive \n",
      "\n",
      "Total count: 26\n",
      "\n",
      "#Covid_19\n",
      "\n",
      "@timesofindia @manuparida1\n",
      "\n",
      "1 new #coronavirus positive case in #Gujarat, total 14 now\n",
      "#CoronavirusPandemic #CoronaVirusUpdate… https://t.co/oeJ3RBbljO\n",
      "\n"
     ]
    }
   ],
   "source": [
    "import re  \n",
    "\n",
    "print(\"LIST OF TWEETS WITH PIIs\")\n",
    "print()\n",
    "for tweet in tweet_text_list:  \n",
    "    age_pattern = '[aA]ge|[yY]ears|[yY]rs'\n",
    "    gender_pattern = '[fF]emale|[mM]ale|[tT]ransgender|[sS]ex|[gG]ender' \n",
    "    location_pattern = '[dD]istrict|[sS]ector|[pP]lace|[vV]illage|[gG]ujarat'\n",
    "    email_list = re.findall('\\S+@\\S+', tweet)   \n",
    "    phone_list = re.findall('\\d{10}', tweet)\n",
    "    age_list = re.findall(age_pattern, tweet)\n",
    "    gender_list = re.findall(gender_pattern, tweet)\n",
    "    location_list = re.findall(location_pattern, tweet)\n",
    "    if email_list or phone_list or age_list or gender_list or location_list:       \n",
    "        print(tweet)\n",
    "        print()"
   ]
  },
  {
   "cell_type": "code",
   "execution_count": 28,
   "metadata": {
    "collapsed": true
   },
   "outputs": [
    {
     "name": "stdout",
     "output_type": "stream",
     "text": [
      "IPRTelangana\n",
      "Total statuses: 11382\n",
      "Total followers: 16388\n",
      "Total friends: 14\n",
      "Average likes per post: 0.0010542962572482868\n",
      "kansalrohit69\n",
      "Total statuses: 405\n",
      "Total followers: 128448\n",
      "Total friends: 302\n",
      "Average likes per post: 0.745679012345679\n",
      "wilson_thehindu\n",
      "Total statuses: 1144\n",
      "Total followers: 882\n",
      "Total friends: 334\n",
      "Average likes per post: 0.08391608391608392\n",
      "nagarkoti\n",
      "Total statuses: 7099\n",
      "Total followers: 4073\n",
      "Total friends: 358\n",
      "Average likes per post: 0.23439921115650092\n",
      "sanjayjavin\n",
      "Total statuses: 1623\n",
      "Total followers: 65327\n",
      "Total friends: 389\n",
      "Average likes per post: 1.5613062230437462\n"
     ]
    }
   ],
   "source": [
    "names_selected = [\"IPRTelangana\", \"kansalrohit69\", \"wilson_thehindu\", \"nagarkoti\", \"sanjayjavin\"]\n",
    "\n",
    "for name in names_selected:\n",
    "    print(name)\n",
    "    user = api.get_user(name)\n",
    "    total_statuses = user.statuses_count\n",
    "    followers = user.followers_count\n",
    "    friends = user.friends_count\n",
    "    diff = abs(followers - following)\n",
    "    total_likes = user.favourites_count\n",
    "    likes_per_post = total_likes/total_statuses\n",
    "    print(\"Total statuses: \" + str(total_statuses))\n",
    "    print(\"Total followers: \" + str(followers))\n",
    "    print(\"Total friends: \" + str(friends))\n",
    "    #print(\"Total following: \" + str(following))\n",
    "    #print(\"Total difference between followers and following: \" + str(diff))\n",
    "    print(\"Average likes per post: \" + str(likes_per_post))\n"
   ]
  },
  {
   "cell_type": "code",
   "execution_count": null,
   "metadata": {},
   "outputs": [],
   "source": []
  }
 ],
 "metadata": {
  "kernelspec": {
   "display_name": "Python 3",
   "language": "python",
   "name": "python3"
  },
  "language_info": {
   "codemirror_mode": {
    "name": "ipython",
    "version": 3
   },
   "file_extension": ".py",
   "mimetype": "text/x-python",
   "name": "python",
   "nbconvert_exporter": "python",
   "pygments_lexer": "ipython3",
   "version": "3.6.2"
  }
 },
 "nbformat": 4,
 "nbformat_minor": 2
}
