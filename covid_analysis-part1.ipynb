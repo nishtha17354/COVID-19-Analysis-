{
 "cells": [
  {
   "cell_type": "code",
   "execution_count": null,
   "metadata": {
    "colab": {},
    "colab_type": "code",
    "id": "EJjhsGFu1_ZP"
   },
   "outputs": [],
   "source": [
    "!pip install tldextract\n",
    "!pip install tweepy\n",
    "!pip install spacy\n",
    "!python -m spacy download en"
   ]
  },
  {
   "cell_type": "code",
   "execution_count": 7,
   "metadata": {
    "colab": {},
    "colab_type": "code",
    "id": "lwdANWSy2G7e"
   },
   "outputs": [],
   "source": [
    "import matplotlib.pyplot as plt\n",
    "import numpy as np\n",
    "import pandas as pd\n",
    "import tldextract\n",
    "from tqdm import tqdm\n",
    "import tweepy\n",
    "import spacy\n",
    "%matplotlib inline\n",
    "import warnings\n",
    "warnings.filterwarnings('ignore')"
   ]
  },
  {
   "cell_type": "code",
   "execution_count": 8,
   "metadata": {
    "colab": {
     "base_uri": "https://localhost:8080/",
     "height": 513
    },
    "colab_type": "code",
    "id": "vj3_6kFF2sjn",
    "outputId": "4ad6c067-5d62-4ce2-d078-11027941a37e"
   },
   "outputs": [
    {
     "data": {
      "text/html": [
       "<div>\n",
       "<style scoped>\n",
       "    .dataframe tbody tr th:only-of-type {\n",
       "        vertical-align: middle;\n",
       "    }\n",
       "\n",
       "    .dataframe tbody tr th {\n",
       "        vertical-align: top;\n",
       "    }\n",
       "\n",
       "    .dataframe thead th {\n",
       "        text-align: right;\n",
       "    }\n",
       "</style>\n",
       "<table border=\"1\" class=\"dataframe\">\n",
       "  <thead>\n",
       "    <tr style=\"text-align: right;\">\n",
       "      <th></th>\n",
       "      <th>Patient Number</th>\n",
       "      <th>State Patient Number</th>\n",
       "      <th>Date Announced</th>\n",
       "      <th>Estimated Onset Date</th>\n",
       "      <th>Age Bracket</th>\n",
       "      <th>Gender</th>\n",
       "      <th>Detected City</th>\n",
       "      <th>Detected District</th>\n",
       "      <th>Detected State</th>\n",
       "      <th>State code</th>\n",
       "      <th>Current Status</th>\n",
       "      <th>Notes</th>\n",
       "      <th>Contracted from which Patient (Suspected)</th>\n",
       "      <th>Nationality</th>\n",
       "      <th>Type of transmission</th>\n",
       "      <th>Status Change Date</th>\n",
       "      <th>Source_1</th>\n",
       "      <th>Source_2</th>\n",
       "      <th>Source_3</th>\n",
       "      <th>Backup Notes</th>\n",
       "    </tr>\n",
       "  </thead>\n",
       "  <tbody>\n",
       "    <tr>\n",
       "      <th>0</th>\n",
       "      <td>1</td>\n",
       "      <td>KL-TS-P1</td>\n",
       "      <td>30/01/2020</td>\n",
       "      <td>NaN</td>\n",
       "      <td>20</td>\n",
       "      <td>F</td>\n",
       "      <td>Thrissur</td>\n",
       "      <td>Thrissur</td>\n",
       "      <td>Kerala</td>\n",
       "      <td>KL</td>\n",
       "      <td>Recovered</td>\n",
       "      <td>Travelled from Wuhan</td>\n",
       "      <td>NaN</td>\n",
       "      <td>India</td>\n",
       "      <td>Imported</td>\n",
       "      <td>14/02/2020</td>\n",
       "      <td>https://twitter.com/vijayanpinarayi/status/122...</td>\n",
       "      <td>https://weather.com/en-IN/india/news/news/2020...</td>\n",
       "      <td>NaN</td>\n",
       "      <td>Student from Wuhan</td>\n",
       "    </tr>\n",
       "    <tr>\n",
       "      <th>1</th>\n",
       "      <td>2</td>\n",
       "      <td>KL-AL-P1</td>\n",
       "      <td>02/02/2020</td>\n",
       "      <td>NaN</td>\n",
       "      <td>NaN</td>\n",
       "      <td>NaN</td>\n",
       "      <td>Alappuzha</td>\n",
       "      <td>Alappuzha</td>\n",
       "      <td>Kerala</td>\n",
       "      <td>KL</td>\n",
       "      <td>Recovered</td>\n",
       "      <td>Travelled from Wuhan</td>\n",
       "      <td>NaN</td>\n",
       "      <td>India</td>\n",
       "      <td>Imported</td>\n",
       "      <td>14/02/2020</td>\n",
       "      <td>https://www.indiatoday.in/india/story/kerala-r...</td>\n",
       "      <td>https://weather.com/en-IN/india/news/news/2020...</td>\n",
       "      <td>NaN</td>\n",
       "      <td>Student from Wuhan</td>\n",
       "    </tr>\n",
       "    <tr>\n",
       "      <th>2</th>\n",
       "      <td>3</td>\n",
       "      <td>KL-KS-P1</td>\n",
       "      <td>03/02/2020</td>\n",
       "      <td>NaN</td>\n",
       "      <td>NaN</td>\n",
       "      <td>NaN</td>\n",
       "      <td>Kasaragod</td>\n",
       "      <td>Kasaragod</td>\n",
       "      <td>Kerala</td>\n",
       "      <td>KL</td>\n",
       "      <td>Recovered</td>\n",
       "      <td>Travelled from Wuhan</td>\n",
       "      <td>NaN</td>\n",
       "      <td>India</td>\n",
       "      <td>Imported</td>\n",
       "      <td>14/02/2020</td>\n",
       "      <td>https://www.indiatoday.in/india/story/kerala-n...</td>\n",
       "      <td>https://twitter.com/ANI/status/122422148580539...</td>\n",
       "      <td>https://weather.com/en-IN/india/news/news/2020...</td>\n",
       "      <td>Student from Wuhan</td>\n",
       "    </tr>\n",
       "    <tr>\n",
       "      <th>3</th>\n",
       "      <td>4</td>\n",
       "      <td>DL-P1</td>\n",
       "      <td>02/03/2020</td>\n",
       "      <td>NaN</td>\n",
       "      <td>45</td>\n",
       "      <td>M</td>\n",
       "      <td>East Delhi (Mayur Vihar)</td>\n",
       "      <td>East Delhi</td>\n",
       "      <td>Delhi</td>\n",
       "      <td>DL</td>\n",
       "      <td>Recovered</td>\n",
       "      <td>Travelled from Austria, Italy</td>\n",
       "      <td>NaN</td>\n",
       "      <td>India</td>\n",
       "      <td>Imported</td>\n",
       "      <td>15/03/2020</td>\n",
       "      <td>https://www.indiatoday.in/india/story/not-a-ja...</td>\n",
       "      <td>https://economictimes.indiatimes.com/news/poli...</td>\n",
       "      <td>NaN</td>\n",
       "      <td>Travel history to Italy and Austria</td>\n",
       "    </tr>\n",
       "    <tr>\n",
       "      <th>4</th>\n",
       "      <td>5</td>\n",
       "      <td>TS-P1</td>\n",
       "      <td>02/03/2020</td>\n",
       "      <td>NaN</td>\n",
       "      <td>24</td>\n",
       "      <td>M</td>\n",
       "      <td>Hyderabad</td>\n",
       "      <td>Hyderabad</td>\n",
       "      <td>Telangana</td>\n",
       "      <td>TG</td>\n",
       "      <td>Recovered</td>\n",
       "      <td>Travelled from Dubai to Bangalore on 20th Feb,...</td>\n",
       "      <td>NaN</td>\n",
       "      <td>India</td>\n",
       "      <td>Imported</td>\n",
       "      <td>02/03/2020</td>\n",
       "      <td>https://www.deccanherald.com/national/south/qu...</td>\n",
       "      <td>https://www.indiatoday.in/india/story/coronavi...</td>\n",
       "      <td>https://www.thehindu.com/news/national/coronav...</td>\n",
       "      <td>Travel history to Dubai, Singapore contact</td>\n",
       "    </tr>\n",
       "  </tbody>\n",
       "</table>\n",
       "</div>"
      ],
      "text/plain": [
       "   Patient Number State Patient Number Date Announced  Estimated Onset Date  \\\n",
       "0               1             KL-TS-P1     30/01/2020                   NaN   \n",
       "1               2             KL-AL-P1     02/02/2020                   NaN   \n",
       "2               3             KL-KS-P1     03/02/2020                   NaN   \n",
       "3               4                DL-P1     02/03/2020                   NaN   \n",
       "4               5                TS-P1     02/03/2020                   NaN   \n",
       "\n",
       "  Age Bracket Gender             Detected City Detected District  \\\n",
       "0          20      F                  Thrissur          Thrissur   \n",
       "1         NaN    NaN                 Alappuzha         Alappuzha   \n",
       "2         NaN    NaN                 Kasaragod         Kasaragod   \n",
       "3          45      M  East Delhi (Mayur Vihar)        East Delhi   \n",
       "4          24      M                 Hyderabad         Hyderabad   \n",
       "\n",
       "  Detected State State code Current Status  \\\n",
       "0         Kerala         KL      Recovered   \n",
       "1         Kerala         KL      Recovered   \n",
       "2         Kerala         KL      Recovered   \n",
       "3          Delhi         DL      Recovered   \n",
       "4      Telangana         TG      Recovered   \n",
       "\n",
       "                                               Notes  \\\n",
       "0                               Travelled from Wuhan   \n",
       "1                               Travelled from Wuhan   \n",
       "2                               Travelled from Wuhan   \n",
       "3                      Travelled from Austria, Italy   \n",
       "4  Travelled from Dubai to Bangalore on 20th Feb,...   \n",
       "\n",
       "  Contracted from which Patient (Suspected) Nationality Type of transmission  \\\n",
       "0                                       NaN       India             Imported   \n",
       "1                                       NaN       India             Imported   \n",
       "2                                       NaN       India             Imported   \n",
       "3                                       NaN       India             Imported   \n",
       "4                                       NaN       India             Imported   \n",
       "\n",
       "  Status Change Date                                           Source_1  \\\n",
       "0         14/02/2020  https://twitter.com/vijayanpinarayi/status/122...   \n",
       "1         14/02/2020  https://www.indiatoday.in/india/story/kerala-r...   \n",
       "2         14/02/2020  https://www.indiatoday.in/india/story/kerala-n...   \n",
       "3         15/03/2020  https://www.indiatoday.in/india/story/not-a-ja...   \n",
       "4         02/03/2020  https://www.deccanherald.com/national/south/qu...   \n",
       "\n",
       "                                            Source_2  \\\n",
       "0  https://weather.com/en-IN/india/news/news/2020...   \n",
       "1  https://weather.com/en-IN/india/news/news/2020...   \n",
       "2  https://twitter.com/ANI/status/122422148580539...   \n",
       "3  https://economictimes.indiatimes.com/news/poli...   \n",
       "4  https://www.indiatoday.in/india/story/coronavi...   \n",
       "\n",
       "                                            Source_3  \\\n",
       "0                                                NaN   \n",
       "1                                                NaN   \n",
       "2  https://weather.com/en-IN/india/news/news/2020...   \n",
       "3                                                NaN   \n",
       "4  https://www.thehindu.com/news/national/coronav...   \n",
       "\n",
       "                                 Backup Notes  \n",
       "0                          Student from Wuhan  \n",
       "1                          Student from Wuhan  \n",
       "2                          Student from Wuhan  \n",
       "3         Travel history to Italy and Austria  \n",
       "4  Travel history to Dubai, Singapore contact  "
      ]
     },
     "execution_count": 8,
     "metadata": {},
     "output_type": "execute_result"
    }
   ],
   "source": [
    "df = pd.read_csv(\"raw_data1.csv\")\n",
    "df.head()"
   ]
  },
  {
   "cell_type": "code",
   "execution_count": 9,
   "metadata": {
    "colab": {},
    "colab_type": "code",
    "id": "SD9pYN6B281M"
   },
   "outputs": [],
   "source": [
    "def clean_source(source):\n",
    "    original_source = source\n",
    "    \n",
    "    if isinstance(source, str):\n",
    "        lower_source = source.lower().strip()\n",
    "        if 'ap.gov.in' in source:\n",
    "            lower_source = 'ap.gov.in' \n",
    "        elif 'State Health' in source:\n",
    "            lower_source = 'State Bulletin'\n",
    "        elif 'State Bulletin' in source:\n",
    "            lower_source = 'State Bulletin'\n",
    "        else: \n",
    "            tld = tldextract.extract(str(source))\n",
    "            if tld.suffix:\n",
    "                lower_source = tld.domain + '.' + tld.suffix\n",
    "            else:\n",
    "                lower_source = tld.domain\n",
    "            \n",
    "        return lower_source"
   ]
  },
  {
   "cell_type": "code",
   "execution_count": 10,
   "metadata": {
    "colab": {},
    "colab_type": "code",
    "id": "kHqmyGCp3AFL"
   },
   "outputs": [],
   "source": [
    "df['Source_1_tld'] = df['Source_1'].apply(lambda x : clean_source(x))\n",
    "df['Source_2_tld'] = df['Source_2'].apply(lambda x : clean_source(x))\n",
    "df['Source_3_tld'] = df['Source_3'].apply(lambda x : clean_source(x))\n",
    "\n",
    "# df.head()"
   ]
  },
  {
   "cell_type": "code",
   "execution_count": 11,
   "metadata": {
    "colab": {},
    "colab_type": "code",
    "id": "WwmbK8DpsRUS"
   },
   "outputs": [],
   "source": [
    "# df.shape"
   ]
  },
  {
   "cell_type": "code",
   "execution_count": 12,
   "metadata": {
    "colab": {},
    "colab_type": "code",
    "id": "4S8W0HfO7oqQ"
   },
   "outputs": [],
   "source": [
    "df['Location'] = df[['Detected City', 'Detected District', 'Detected State', 'State code']].apply(lambda x: [str(x[0]).lower(), str(x[1]).lower(), str(x[2]).lower(), str(x[3]).lower()], axis=1)\n",
    "df['Source'] = df[['Source_1','Source_2', 'Source_3']].apply(lambda x: [str(x[0]).lower(), str(x[1]).lower(), str(x[2]).lower()], axis=1)\n",
    "df['Source_tld'] = df[['Source_1_tld','Source_2_tld', 'Source_3_tld']].apply(lambda x: [str(x[0]).lower(), str(x[1]).lower(), str(x[2]).lower()], axis=1)"
   ]
  },
  {
   "cell_type": "code",
   "execution_count": 13,
   "metadata": {
    "colab": {},
    "colab_type": "code",
    "id": "f8X37guI3C3K"
   },
   "outputs": [],
   "source": [
    "domains = []\n",
    "domains.extend(df['Source_1_tld'].values.tolist())\n",
    "domains.extend(df['Source_2_tld'].values.tolist())\n",
    "domains.extend(df['Source_3_tld'].values.tolist())\n",
    "domains = [d for d in domains if isinstance(d, str) and d not in ('nan')]"
   ]
  },
  {
   "cell_type": "code",
   "execution_count": 14,
   "metadata": {
    "colab": {},
    "colab_type": "code",
    "id": "z_zTxCE23J4o"
   },
   "outputs": [],
   "source": [
    "np_domains, np_counts = np.unique(domains, return_counts=True)\n",
    "freq_sources = {domain:count for domain, count in zip(np_domains, np_counts)}\n",
    "# np_domains\n",
    "#{k:v for k , v in sorted(freq_sources.items(), key=lambda x: x[1])}"
   ]
  },
  {
   "cell_type": "markdown",
   "metadata": {},
   "source": [
    "# Histogram of the data"
   ]
  },
  {
   "cell_type": "code",
   "execution_count": 15,
   "metadata": {
    "colab": {
     "base_uri": "https://localhost:8080/",
     "height": 721
    },
    "colab_type": "code",
    "id": "6jYLax7d3MPE",
    "outputId": "1e750f1d-dbc8-4bfa-fdd0-99fe8451c6e0",
    "scrolled": false
   },
   "outputs": [
    {
     "data": {
      "image/png": "[encoded data removed]",
      "text/plain": [
       "<Figure size 1440x720 with 1 Axes>"
      ]
     },
     "metadata": {
      "needs_background": "light"
     },
     "output_type": "display_data"
    }
   ],
   "source": [
    "# the histogram of the data\n",
    "import matplotlib.pyplot as plt\n",
    "plt.rcParams[\"figure.figsize\"] = (20,10)\n",
    "\n",
    "ax = plt.subplot(111)\n",
    "ax.set_xticklabels(np_domains,rotation=90)\n",
    "plt.xlabel('Source')\n",
    "plt.ylabel('Frequency')\n",
    "ax.bar(np_domains, np_counts, width=1)\n",
    "plt.savefig('a.png')\n",
    "\n"
   ]
  },
  {
   "cell_type": "markdown",
   "metadata": {
    "colab_type": "text",
    "id": "uwLxFDI63U6N"
   },
   "source": [
    "\n",
    "\n",
    "**Question** : Which is the major information source in the dataset in terms of OSM and other sources? Please put the quantitative numbers for both sources.\n",
    "\n",
    "**Answer** :\n",
    "\n",
    "| Category  | Source | Frequency |\n",
    "| ------------- | ------------- | ------------- |\n",
    "| OSM  | twitter.com | 16358 |\n",
    "| Govt Website  | gujarat.gov.in | 574 |\n",
    "| Instant Messaging  | t.me  | 1284 |"
   ]
  },
  {
   "cell_type": "code",
   "execution_count": null,
   "metadata": {
    "colab": {},
    "colab_type": "code",
    "id": "EE1r5OfEqUZK"
   },
   "outputs": [],
   "source": [
    "import tweepy\n",
    "import os\n",
    "consumer_key = os.getenv('TWEEPY_CONSUMER_KEY', 'YOUR_CONSUMER_KEY')\n",
    "consumer_secret = os.getenv('TWEEPY_CONSUMER_SECRET', 'YOUR_CONSUMER_SECRET')\n",
    "\n",
    "access_token = os.getenv('TWEEPY_ACCESS_KEY', 'YOUR_ACCESS_KEY')\n",
    "access_token_secret = os.getenv('TWEEPY_SECRET_KEY', 'YOUR_SECRET_KEY')\n",
    "\n",
    "auth = tweepy.OAuthHandler(consumer_key, consumer_secret)\n",
    "auth.set_access_token(access_token, access_token_secret)\n",
    "\n",
    "api = tweepy.API(auth)"
   ]
  },
  {
   "cell_type": "markdown",
   "metadata": {
    "colab_type": "text",
    "id": "HV4O4zz-FauY"
   },
   "source": [
    "## Step 1: Extract Tweets"
   ]
  },
  {
   "cell_type": "code",
   "execution_count": null,
   "metadata": {
    "colab": {},
    "colab_type": "code",
    "id": "Miq8R01isj8p"
   },
   "outputs": [],
   "source": [
    "import re\n",
    "\n",
    "\n",
    "def twitter_process(cols):\n",
    "  twitter_ids=list()\n",
    "  # print(cols[0], cols[1], cols[2])\n",
    "  if cols[0]=='twitter.com':\n",
    "    id = re.search(r'[0-9]{19}', cols[3])\n",
    "    if id is not None:\n",
    "      twitter_ids.append(id.group(0))\n",
    "\n",
    "\n",
    "  if  cols[1]=='twitter.com' :\n",
    "    id=re.search(r'[0-9]{19}', cols[4])\n",
    "    if id is not None:\n",
    "      twitter_ids.append(id.group(0))\n",
    "\n",
    "  if cols[2]=='twitter.com':\n",
    "    id=re.search(r'[0-9]{19}', cols[5])\n",
    "    if id is not None:\n",
    "      twitter_ids.append(id.group(0))\n",
    "\n",
    "  return twitter_ids \n",
    "\n",
    "\n",
    "existing_tweet_ids={}\n",
    "error_ids=set()\n",
    "def tweetInfo(columns):\n",
    "  combined_tweet=''\n",
    "  for id in columns:\n",
    "    if id in existing_tweet_ids:\n",
    "      combined_tweet+=existing_tweet_ids.get(id)+\" \"\n",
    "    else:\n",
    "      try:\n",
    "        tweet = api.get_status(id)\n",
    "        combined_tweet+=tweet.text+\" \"\n",
    "\n",
    "        existing_tweet_ids[id]=tweet.text\n",
    "      except:\n",
    "        error_ids.add(id)\n",
    "\n",
    "  return combined_tweet\n",
    "\n",
    "df['twitter_ids'] = df[['Source_1_tld', 'Source_2_tld', 'Source_3_tld', 'Source_1', 'Source_2', 'Source_3']].apply(lambda cols: twitter_process(cols), axis=1)\n",
    "df['tweet_content_combined']= df['twitter_ids'].apply(lambda x: tweetInfo(x)  )"
   ]
  },
  {
   "cell_type": "code",
   "execution_count": null,
   "metadata": {
    "colab": {
     "base_uri": "https://localhost:8080/",
     "height": 34
    },
    "colab_type": "code",
    "id": "kKud59hC2voJ",
    "outputId": "16d24567-9dca-45b3-ea7b-b1bb38612903"
   },
   "outputs": [],
   "source": [
    "available_tweets = df[df['tweet_content_combined'].str.len() > 0]\n",
    "# available_tweets.shape"
   ]
  },
  {
   "cell_type": "code",
   "execution_count": null,
   "metadata": {
    "colab": {
     "base_uri": "https://localhost:8080/",
     "height": 34
    },
    "colab_type": "code",
    "id": "m8pusPA5IcVG",
    "outputId": "8e74e4eb-556f-48ee-f96d-1ae656eedcc1"
   },
   "outputs": [],
   "source": [
    "import joblib\n",
    "\n",
    "joblib.dump(available_tweets, \"tweets.pkl\")"
   ]
  },
  {
   "cell_type": "markdown",
   "metadata": {
    "colab_type": "text",
    "id": "2w9BVL1sFiJ0"
   },
   "source": [
    "## Extract Location from Tweets"
   ]
  },
  {
   "cell_type": "code",
   "execution_count": null,
   "metadata": {
    "colab": {},
    "colab_type": "code",
    "id": "Z9VD7e9GHB9Y"
   },
   "outputs": [],
   "source": [
    "## Load NLP Model\n",
    "model = spacy.load('en')"
   ]
  },
  {
   "cell_type": "code",
   "execution_count": null,
   "metadata": {
    "colab": {},
    "colab_type": "code",
    "id": "Rom54jjK-MuK"
   },
   "outputs": [],
   "source": [
    "def get_location_from_text(text):\n",
    "  locations = []\n",
    "  nlp = model(text)\n",
    "  for ent in nlp.ents: \n",
    "    if 'GPE' == ent.label_ or 'LOC' == ent.label_:\n",
    "      locations.append(ent.text.lower()) \n",
    "\n",
    "  return locations\n",
    "\n",
    "available_tweets['tweet_location']= available_tweets['tweet_content_combined'].apply(lambda x: get_location_from_text(x))"
   ]
  },
  {
   "cell_type": "markdown",
   "metadata": {
    "colab_type": "text",
    "id": "CTBbpL61Fn0w"
   },
   "source": [
    "## Extract Tweets from Notes"
   ]
  },
  {
   "cell_type": "code",
   "execution_count": null,
   "metadata": {
    "colab": {},
    "colab_type": "code",
    "id": "deejdhVVFGMY"
   },
   "outputs": [],
   "source": [
    "def get_location_from_notes(notes):\n",
    "  notes, backup_text = str(notes[0]), str(notes[1])\n",
    "  text = notes + '. ' + backup_text\n",
    "  locations = []\n",
    "  nlp = model(text)\n",
    "  for ent in nlp.ents: \n",
    "    if 'GPE' == ent.label_ or 'LOC' == ent.label_:\n",
    "      locations.append(ent.text.lower()) \n",
    "\n",
    "  return locations\n",
    "\n",
    "available_tweets['notes_location']  = available_tweets[['Notes', 'Backup Notes']].apply(lambda x: get_location_from_notes(x), axis=1)\n"
   ]
  },
  {
   "cell_type": "markdown",
   "metadata": {
    "colab_type": "text",
    "id": "QHpHO2cTFrbX"
   },
   "source": [
    "## Matched Percentage "
   ]
  },
  {
   "cell_type": "code",
   "execution_count": null,
   "metadata": {
    "colab": {
     "base_uri": "https://localhost:8080/",
     "height": 51
    },
    "colab_type": "code",
    "id": "KSCWT8YpAO2p",
    "outputId": "ecb1fed1-2b60-4a27-8a79-72f65434614b"
   },
   "outputs": [],
   "source": [
    "def location_matches(compare_location, tweet_location):\n",
    "  if compare_location is None:\n",
    "    return 0\n",
    "  if tweet_location is None:\n",
    "    return 0\n",
    "\n",
    "  compare_location = set(compare_location)\n",
    "  tweet_location = set(tweet_location)\n",
    "\n",
    "  return 1 if compare_location.intersection(tweet_location) != set() else 0\n",
    "\n",
    "available_tweets['tweet_detected_matched'] = available_tweets[['Location', 'tweet_location']].apply(lambda x: location_matches(x[0], x[1]), axis=1)\n",
    "available_tweets['tweet_notes_matched'] = available_tweets[['notes_location', 'tweet_location']].apply(lambda x: location_matches(x[0], x[1]), axis=1)\n",
    "\n",
    "\n",
    "match_percent = (available_tweets['tweet_detected_matched'].sum() / available_tweets.shape[0]) * 100\n",
    "print(\"Percentage of matched tweets and detected location = %f \" % match_percent)\n",
    "\n",
    "match_percent = (available_tweets['tweet_notes_matched'].sum() / available_tweets.shape[0]) * 100\n",
    "print(\"Percentage of matched tweets and notes location = 1%f \" % match_percent)"
   ]
  },
  {
   "cell_type": "code",
   "execution_count": null,
   "metadata": {},
   "outputs": [],
   "source": []
  }
 ],
 "metadata": {
  "colab": {
   "collapsed_sections": [],
   "name": "Copy of Covid19.ipynb",
   "provenance": []
  },
  "kernelspec": {
   "display_name": "Python 3",
   "language": "python",
   "name": "python3"
  },
  "language_info": {
   "codemirror_mode": {
    "name": "ipython",
    "version": 3
   },
   "file_extension": ".py",
   "mimetype": "text/x-python",
   "name": "python",
   "nbconvert_exporter": "python",
   "pygments_lexer": "ipython3",
   "version": "3.6.2"
  }
 },
 "nbformat": 4,
 "nbformat_minor": 2
}
